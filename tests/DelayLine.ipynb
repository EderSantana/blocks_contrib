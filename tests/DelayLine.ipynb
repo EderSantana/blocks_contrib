{
 "metadata": {
  "name": "",
  "signature": "sha256:e1c45b0ff2c887a302d3c3841e0f9ac78f090f38f5e81b6c6ae1f689014d25b2"
 },
 "nbformat": 3,
 "nbformat_minor": 0,
 "worksheets": [
  {
   "cells": [
    {
     "cell_type": "code",
     "collapsed": false,
     "input": [
      "from fuel.datasets import Dataset\n",
      "from librnn.pylearn2.datasets.music import MusicSequence\n",
      "from blocks.bricks import Sigmoid, Tanh, MLP, Linear, Rectifier\n",
      "from blocks.bricks.recurrent import SimpleRecurrent, GatedRecurrent, LSTM\n",
      "from blocks.bricks import recurrent\n",
      "from blocks.initialization import Orthogonal, IsotropicGaussian, Constant\n",
      "from blocks.algorithms import GradientDescent, Scale, Adam\n",
      "from fuel.streams import DataStream\n",
      "from fuel.schemes import ConstantScheme\n",
      "from theano import tensor\n",
      "from blocks.bricks import WEIGHTS, BIASES\n",
      "from blocks.graph import ComputationGraph\n",
      "from blocks.filter import VariableFilter\n",
      "from blocks.main_loop import MainLoop\n",
      "from blocks.model import Model\n",
      "from blocks.extensions import FinishAfter, Printing\n",
      "#from blocks.extensions.saveload import SerializeMainLoop\n",
      "from blocks.extensions.monitoring import TrainingDataMonitoring, DataStreamMonitoring\n",
      "from blocks.bricks.cost import BinaryCrossEntropy\n",
      "from blocks_contrib.bricks.recurrent import DelayLine"
     ],
     "language": "python",
     "metadata": {},
     "outputs": [],
     "prompt_number": 1
    },
    {
     "cell_type": "code",
     "collapsed": false,
     "input": [
      "class MusicFuel(Dataset):\n",
      "    def __init__(self, which_set, which_dataset):\n",
      "        self.pylearn2_dataset = MusicSequence(which_set=which_set, which_dataset=which_dataset)\n",
      "        self.sources = self.pylearn2_dataset.get_data_specs()[-1]\n",
      "    \n",
      "    def open(self):\n",
      "        num_examples = self.pylearn2_dataset.get_num_examples()\n",
      "        return self.pylearn2_dataset.iterator(1, num_examples, mode='sequential',\n",
      "                                   data_specs=self.pylearn2_dataset.get_data_specs(), return_tuple=True)\n",
      "    \n",
      "    def get_data(self,state=None,request=None):\n",
      "        return next(state)"
     ],
     "language": "python",
     "metadata": {},
     "outputs": [],
     "prompt_number": 2
    },
    {
     "cell_type": "code",
     "collapsed": false,
     "input": [
      "import theano \n",
      "\n",
      "x = tensor.tensor3('features')\n",
      "mem_dim = 5\n",
      "preRNN = SimpleRecurrent(dim=48, activation=Tanh())\n",
      "RNN = DelayLine(96, mem_dim)\n",
      "h = RNN.apply(x) # h is hidden states in the RNN\n",
      "state_to_output = Linear(name='state_to_output', input_dim=96*mem_dim, output_dim=48)\n",
      "pre_out = Rectifier().apply(state_to_output.apply(h))\n",
      "out = Linear(name='out', input_dim=48, output_dim=96)\n",
      "y_hat = Sigmoid(name='last_layer').apply(out.apply(pre_out))\n",
      "y_hat.name = 'output_sequence'\n",
      "\n",
      "predict = theano.function(inputs = [x, ], outputs = y_hat)\n",
      "\n",
      "y = tensor.tensor3('targets')\n",
      "#cost = BinaryCrossEntropy().apply(y, y_hat)\n",
      "cost = tensor.nnet.binary_crossentropy(y_hat, y).sum(axis=2).mean()\n",
      "cost.name = 'BCE'\n",
      "\n",
      "state_to_output.weights_init = out.weights_init = IsotropicGaussian(0.01)\n",
      "#RNN.weights_init = Constant(1.)\n",
      "RNN.weights_init = IsotropicGaussian(.01)\n",
      "RNN.biases_init = state_to_output.biases_init = out.biases_init = Constant(0)\n",
      "RNN.initialize()\n",
      "state_to_output.initialize()\n",
      "out.initialize()\n",
      "\n",
      "cg = ComputationGraph(cost)\n",
      "params = VariableFilter(roles=[WEIGHTS, BIASES])(cg.variables)"
     ],
     "language": "python",
     "metadata": {},
     "outputs": [
      {
       "output_type": "stream",
       "stream": "stderr",
       "text": [
        "/Users/eder/anaconda/lib/python2.7/site-packages/theano/scan_module/scan_perform_ext.py:133: RuntimeWarning: numpy.ndarray size changed, may indicate binary incompatibility\n",
        "  from scan_perform.scan_perform import *\n"
       ]
      }
     ],
     "prompt_number": 3
    },
    {
     "cell_type": "code",
     "collapsed": false,
     "input": [
      "trainset = DataStream(MusicFuel(which_set='train', which_dataset='jsb'))\n",
      "testset = DataStream(MusicFuel(which_set='test', which_dataset='jsb'))\n",
      "validset = DataStream(MusicFuel(which_set='valid', which_dataset='jsb'))\n",
      "batch_size = 1\n",
      "num_epochs = 100\n",
      "cost.name = \"sequence_log_likelihood\"\n",
      "algorithm = GradientDescent(\n",
      "                cost=cost, params=params,\n",
      "                step_rule=Adam(0.001))\n",
      "main_loop = MainLoop(\n",
      "                algorithm=algorithm,\n",
      "                data_stream=trainset,\n",
      "                model=None,\n",
      "                extensions=[FinishAfter(after_n_epochs=num_epochs),\n",
      "                            TrainingDataMonitoring([cost], prefix=\"train\",\n",
      "                                                    after_every_epoch=True),\n",
      "                            DataStreamMonitoring([cost], validset, prefix=\"valid\"),\n",
      "                            DataStreamMonitoring([cost], testset, prefix=\"test\"),\n",
      "                            Printing()])\n",
      "main_loop.run()"
     ],
     "language": "python",
     "metadata": {},
     "outputs": [
      {
       "output_type": "stream",
       "stream": "stderr",
       "text": [
        "/Users/eder/python/pylearn2/pylearn2/utils/iteration.py:783: UserWarning: dataset is using the old iterator interface which is deprecated and will become officially unsupported as of July 28, 2015. The dataset should implement a `get` method respecting the new interface.\n",
        "  warnings.warn(\"dataset is using the old iterator interface which \"\n",
        "/Users/eder/python/blocks/blocks/log.py:147: FutureWarning: comparison to `None` will result in an elementwise object comparison in the future.\n",
        "  if value != default_value:\n"
       ]
      },
      {
       "output_type": "stream",
       "stream": "stdout",
       "text": [
        "\n",
        "-------------------------------------------------------------------------------\n",
        "BEFORE FIRST EPOCH\n",
        "-------------------------------------------------------------------------------\n",
        "Training status:\n",
        "\t epochs_done: 0\n",
        "\t iterations_done: 0\n",
        "Log records from the iteration 0:\n",
        "\t test_sequence_log_likelihood: 66.5426330566\n",
        "\t valid_sequence_log_likelihood: 66.5427780151\n",
        "\n",
        "\n"
       ]
      },
      {
       "output_type": "stream",
       "stream": "stdout",
       "text": [
        "-------------------------------------------------------------------------------\n",
        "AFTER ANOTHER EPOCH\n",
        "-------------------------------------------------------------------------------\n",
        "Training status:\n",
        "\t epochs_done: 1\n",
        "\t iterations_done: 229\n",
        "Log records from the iteration 229:\n",
        "\t test_sequence_log_likelihood: 12.7564840317\n",
        "\t train_sequence_log_likelihood: 18.843875885\n",
        "\t valid_sequence_log_likelihood: 12.4118967056\n",
        "\n",
        "\n"
       ]
      },
      {
       "output_type": "stream",
       "stream": "stdout",
       "text": [
        "-------------------------------------------------------------------------------\n",
        "AFTER ANOTHER EPOCH\n",
        "-------------------------------------------------------------------------------\n",
        "Training status:\n",
        "\t epochs_done: 2\n",
        "\t iterations_done: 458\n",
        "Log records from the iteration 458:\n",
        "\t test_sequence_log_likelihood: 14.2806081772\n",
        "\t train_sequence_log_likelihood: 11.4923467636\n",
        "\t valid_sequence_log_likelihood: 11.9762706757\n",
        "\n",
        "\n"
       ]
      },
      {
       "output_type": "stream",
       "stream": "stdout",
       "text": [
        "-------------------------------------------------------------------------------\n",
        "AFTER ANOTHER EPOCH\n",
        "-------------------------------------------------------------------------------\n",
        "Training status:\n",
        "\t epochs_done: 3\n",
        "\t iterations_done: 687\n",
        "Log records from the iteration 687:\n",
        "\t test_sequence_log_likelihood: 11.2280302048\n",
        "\t train_sequence_log_likelihood: 11.34171772\n",
        "\t valid_sequence_log_likelihood: 11.288236618\n",
        "\n",
        "\n"
       ]
      },
      {
       "output_type": "stream",
       "stream": "stdout",
       "text": [
        "-------------------------------------------------------------------------------\n",
        "AFTER ANOTHER EPOCH\n",
        "-------------------------------------------------------------------------------\n",
        "Training status:\n",
        "\t epochs_done: 4\n",
        "\t iterations_done: 916\n",
        "Log records from the iteration 916:\n",
        "\t test_sequence_log_likelihood: 11.2489356995\n",
        "\t train_sequence_log_likelihood: 10.9005889893\n",
        "\t valid_sequence_log_likelihood: 10.9042282104\n",
        "\n",
        "\n"
       ]
      },
      {
       "output_type": "stream",
       "stream": "stdout",
       "text": [
        "-------------------------------------------------------------------------------\n",
        "AFTER ANOTHER EPOCH\n",
        "-------------------------------------------------------------------------------\n",
        "Training status:\n",
        "\t epochs_done: 5\n",
        "\t iterations_done: 1145\n",
        "Log records from the iteration 1145:\n",
        "\t test_sequence_log_likelihood: 10.6666545868\n",
        "\t train_sequence_log_likelihood: 10.5895252228\n",
        "\t valid_sequence_log_likelihood: 10.4539556503\n",
        "\n",
        "\n"
       ]
      },
      {
       "output_type": "stream",
       "stream": "stdout",
       "text": [
        "-------------------------------------------------------------------------------\n",
        "AFTER ANOTHER EPOCH\n",
        "-------------------------------------------------------------------------------\n",
        "Training status:\n",
        "\t epochs_done: 6\n",
        "\t iterations_done: 1374\n",
        "Log records from the iteration 1374:\n",
        "\t test_sequence_log_likelihood: 10.5364952087\n",
        "\t train_sequence_log_likelihood: 10.2857971191\n",
        "\t valid_sequence_log_likelihood: 10.1746063232\n",
        "\n",
        "\n"
       ]
      },
      {
       "output_type": "stream",
       "stream": "stdout",
       "text": [
        "-------------------------------------------------------------------------------\n",
        "AFTER ANOTHER EPOCH\n",
        "-------------------------------------------------------------------------------\n",
        "Training status:\n",
        "\t epochs_done: 7\n",
        "\t iterations_done: 1603\n",
        "Log records from the iteration 1603:\n",
        "\t test_sequence_log_likelihood: 10.9462614059\n",
        "\t train_sequence_log_likelihood: 10.0910396576\n",
        "\t valid_sequence_log_likelihood: 10.0758295059\n",
        "\n",
        "\n"
       ]
      },
      {
       "output_type": "stream",
       "stream": "stdout",
       "text": [
        "-------------------------------------------------------------------------------\n",
        "AFTER ANOTHER EPOCH\n",
        "-------------------------------------------------------------------------------\n",
        "Training status:\n",
        "\t epochs_done: 8\n",
        "\t iterations_done: 1832\n",
        "Log records from the iteration 1832:\n",
        "\t test_sequence_log_likelihood: 9.95141410828\n",
        "\t train_sequence_log_likelihood: 9.95424938202\n",
        "\t valid_sequence_log_likelihood: 9.91554927826\n",
        "\n",
        "\n"
       ]
      },
      {
       "output_type": "stream",
       "stream": "stdout",
       "text": [
        "-------------------------------------------------------------------------------\n",
        "AFTER ANOTHER EPOCH\n",
        "-------------------------------------------------------------------------------\n",
        "Training status:\n",
        "\t epochs_done: 9\n",
        "\t iterations_done: 2061\n",
        "Log records from the iteration 2061:\n",
        "\t test_sequence_log_likelihood: 10.0116691589\n",
        "\t train_sequence_log_likelihood: 9.8499250412\n",
        "\t valid_sequence_log_likelihood: 9.78990459442\n",
        "\n",
        "\n"
       ]
      },
      {
       "output_type": "stream",
       "stream": "stdout",
       "text": [
        "-------------------------------------------------------------------------------\n",
        "AFTER ANOTHER EPOCH\n",
        "-------------------------------------------------------------------------------\n",
        "Training status:\n",
        "\t epochs_done: 10\n",
        "\t iterations_done: 2290\n",
        "Log records from the iteration 2290:\n",
        "\t test_sequence_log_likelihood: 9.68646526337\n",
        "\t train_sequence_log_likelihood: 9.67256832123\n",
        "\t valid_sequence_log_likelihood: 9.5977191925\n",
        "\n",
        "\n"
       ]
      },
      {
       "output_type": "stream",
       "stream": "stdout",
       "text": [
        "-------------------------------------------------------------------------------\n",
        "AFTER ANOTHER EPOCH\n",
        "-------------------------------------------------------------------------------\n",
        "Training status:\n",
        "\t epochs_done: 11\n",
        "\t iterations_done: 2519\n",
        "Log records from the iteration 2519:\n",
        "\t test_sequence_log_likelihood: 9.92022037506\n",
        "\t train_sequence_log_likelihood: 9.5371131897\n",
        "\t valid_sequence_log_likelihood: 9.56313037872\n",
        "\n",
        "\n"
       ]
      },
      {
       "output_type": "stream",
       "stream": "stdout",
       "text": [
        "-------------------------------------------------------------------------------\n",
        "AFTER ANOTHER EPOCH\n",
        "-------------------------------------------------------------------------------\n",
        "Training status:\n",
        "\t epochs_done: 12\n",
        "\t iterations_done: 2748\n",
        "Log records from the iteration 2748:\n",
        "\t test_sequence_log_likelihood: 9.49722290039\n",
        "\t train_sequence_log_likelihood: 9.41157722473\n",
        "\t valid_sequence_log_likelihood: 9.52156352997\n",
        "\n",
        "\n"
       ]
      },
      {
       "output_type": "stream",
       "stream": "stdout",
       "text": [
        "-------------------------------------------------------------------------------\n",
        "AFTER ANOTHER EPOCH\n",
        "-------------------------------------------------------------------------------\n",
        "Training status:\n",
        "\t epochs_done: 13\n",
        "\t iterations_done: 2977\n",
        "Log records from the iteration 2977:\n",
        "\t test_sequence_log_likelihood: 9.53739356995\n",
        "\t train_sequence_log_likelihood: 9.29652309418\n",
        "\t valid_sequence_log_likelihood: 9.76044368744\n",
        "\n",
        "\n"
       ]
      },
      {
       "output_type": "stream",
       "stream": "stdout",
       "text": [
        "-------------------------------------------------------------------------------\n",
        "AFTER ANOTHER EPOCH\n",
        "-------------------------------------------------------------------------------\n",
        "Training status:\n",
        "\t epochs_done: 14\n",
        "\t iterations_done: 3206\n",
        "Log records from the iteration 3206:\n",
        "\t test_sequence_log_likelihood: 9.40819740295\n",
        "\t train_sequence_log_likelihood: 9.19443893433\n",
        "\t valid_sequence_log_likelihood: 9.27327346802\n",
        "\n",
        "\n"
       ]
      },
      {
       "output_type": "stream",
       "stream": "stdout",
       "text": [
        "-------------------------------------------------------------------------------\n",
        "AFTER ANOTHER EPOCH\n",
        "-------------------------------------------------------------------------------\n",
        "Training status:\n",
        "\t epochs_done: 15\n",
        "\t iterations_done: 3435\n",
        "Log records from the iteration 3435:\n",
        "\t test_sequence_log_likelihood: 9.90093994141\n",
        "\t train_sequence_log_likelihood: 9.09687995911\n",
        "\t valid_sequence_log_likelihood: 9.95949363708\n",
        "\n",
        "\n"
       ]
      },
      {
       "output_type": "stream",
       "stream": "stdout",
       "text": [
        "-------------------------------------------------------------------------------\n",
        "AFTER ANOTHER EPOCH\n",
        "-------------------------------------------------------------------------------\n",
        "Training status:\n",
        "\t epochs_done: 16\n",
        "\t iterations_done: 3664\n",
        "Log records from the iteration 3664:\n",
        "\t test_sequence_log_likelihood: 9.19744682312\n",
        "\t train_sequence_log_likelihood: 9.01790714264\n",
        "\t valid_sequence_log_likelihood: 10.4548749924\n",
        "\n",
        "\n"
       ]
      },
      {
       "output_type": "stream",
       "stream": "stdout",
       "text": [
        "-------------------------------------------------------------------------------\n",
        "AFTER ANOTHER EPOCH\n",
        "-------------------------------------------------------------------------------\n",
        "Training status:\n",
        "\t epochs_done: 17\n",
        "\t iterations_done: 3893\n",
        "Log records from the iteration 3893:\n",
        "\t test_sequence_log_likelihood: 9.18597698212\n",
        "\t train_sequence_log_likelihood: 8.94530487061\n",
        "\t valid_sequence_log_likelihood: 9.15009403229\n",
        "\n",
        "\n"
       ]
      },
      {
       "output_type": "stream",
       "stream": "stdout",
       "text": [
        "-------------------------------------------------------------------------------\n",
        "AFTER ANOTHER EPOCH\n",
        "-------------------------------------------------------------------------------\n",
        "Training status:\n",
        "\t epochs_done: 18\n",
        "\t iterations_done: 4122\n",
        "Log records from the iteration 4122:\n",
        "\t test_sequence_log_likelihood: 9.16871547699\n",
        "\t train_sequence_log_likelihood: 8.88837337494\n",
        "\t valid_sequence_log_likelihood: 8.98441791534\n",
        "\n",
        "\n"
       ]
      },
      {
       "output_type": "stream",
       "stream": "stdout",
       "text": [
        "-------------------------------------------------------------------------------\n",
        "AFTER ANOTHER EPOCH\n",
        "-------------------------------------------------------------------------------\n",
        "Training status:\n",
        "\t epochs_done: 19\n",
        "\t iterations_done: 4351\n",
        "Log records from the iteration 4351:\n",
        "\t test_sequence_log_likelihood: 9.47048282623\n",
        "\t train_sequence_log_likelihood: 8.83262825012\n",
        "\t valid_sequence_log_likelihood: 9.04933929443\n",
        "\n",
        "\n"
       ]
      },
      {
       "output_type": "stream",
       "stream": "stdout",
       "text": [
        "-------------------------------------------------------------------------------\n",
        "AFTER ANOTHER EPOCH\n",
        "-------------------------------------------------------------------------------\n",
        "Training status:\n",
        "\t epochs_done: 20\n",
        "\t iterations_done: 4580\n",
        "Log records from the iteration 4580:\n",
        "\t test_sequence_log_likelihood: 9.01980686188\n",
        "\t train_sequence_log_likelihood: 8.79022502899\n",
        "\t valid_sequence_log_likelihood: 9.14806842804\n",
        "\n",
        "\n"
       ]
      },
      {
       "output_type": "stream",
       "stream": "stdout",
       "text": [
        "-------------------------------------------------------------------------------\n",
        "AFTER ANOTHER EPOCH\n",
        "-------------------------------------------------------------------------------\n",
        "Training status:\n",
        "\t epochs_done: 21\n",
        "\t iterations_done: 4809\n",
        "Log records from the iteration 4809:\n",
        "\t test_sequence_log_likelihood: 9.14241313934\n",
        "\t train_sequence_log_likelihood: 8.75098228455\n",
        "\t valid_sequence_log_likelihood: 9.21454811096\n",
        "\n",
        "\n"
       ]
      },
      {
       "output_type": "stream",
       "stream": "stdout",
       "text": [
        "-------------------------------------------------------------------------------\n",
        "AFTER ANOTHER EPOCH\n",
        "-------------------------------------------------------------------------------\n",
        "Training status:\n",
        "\t epochs_done: 22\n",
        "\t iterations_done: 5038\n",
        "Log records from the iteration 5038:\n",
        "\t test_sequence_log_likelihood: 8.99683761597\n",
        "\t train_sequence_log_likelihood: 8.71278858185\n",
        "\t valid_sequence_log_likelihood: 9.42289447784\n",
        "\n",
        "\n"
       ]
      },
      {
       "output_type": "stream",
       "stream": "stdout",
       "text": [
        "-------------------------------------------------------------------------------\n",
        "AFTER ANOTHER EPOCH\n",
        "-------------------------------------------------------------------------------\n",
        "Training status:\n",
        "\t epochs_done: 23\n",
        "\t iterations_done: 5267\n",
        "Log records from the iteration 5267:\n",
        "\t test_sequence_log_likelihood: 9.48575210571\n",
        "\t train_sequence_log_likelihood: 8.6813583374\n",
        "\t valid_sequence_log_likelihood: 10.740486145\n",
        "\n",
        "\n"
       ]
      },
      {
       "output_type": "stream",
       "stream": "stdout",
       "text": [
        "-------------------------------------------------------------------------------\n",
        "AFTER ANOTHER EPOCH\n",
        "-------------------------------------------------------------------------------\n",
        "Training status:\n",
        "\t epochs_done: 24\n",
        "\t iterations_done: 5496\n",
        "Log records from the iteration 5496:\n",
        "\t test_sequence_log_likelihood: 8.97317314148\n",
        "\t train_sequence_log_likelihood: 8.64957809448\n",
        "\t valid_sequence_log_likelihood: 8.85156154633\n",
        "\n",
        "\n"
       ]
      },
      {
       "output_type": "stream",
       "stream": "stdout",
       "text": [
        "-------------------------------------------------------------------------------\n",
        "AFTER ANOTHER EPOCH\n",
        "-------------------------------------------------------------------------------\n",
        "Training status:\n",
        "\t epochs_done: 25\n",
        "\t iterations_done: 5725\n",
        "Log records from the iteration 5725:\n",
        "\t test_sequence_log_likelihood: 9.11082363129\n",
        "\t train_sequence_log_likelihood: 8.62181854248\n",
        "\t valid_sequence_log_likelihood: 8.91409111023\n",
        "\n",
        "\n"
       ]
      },
      {
       "output_type": "stream",
       "stream": "stdout",
       "text": [
        "-------------------------------------------------------------------------------\n",
        "AFTER ANOTHER EPOCH\n",
        "-------------------------------------------------------------------------------\n",
        "Training status:\n",
        "\t epochs_done: 26\n",
        "\t iterations_done: 5954\n",
        "Log records from the iteration 5954:\n",
        "\t test_sequence_log_likelihood: 9.5344209671\n",
        "\t train_sequence_log_likelihood: 8.58941745758\n",
        "\t valid_sequence_log_likelihood: 8.89215946198\n",
        "\n",
        "\n"
       ]
      },
      {
       "output_type": "stream",
       "stream": "stdout",
       "text": [
        "-------------------------------------------------------------------------------\n",
        "AFTER ANOTHER EPOCH\n",
        "-------------------------------------------------------------------------------\n",
        "Training status:\n",
        "\t epochs_done: 27\n",
        "\t iterations_done: 6183\n",
        "Log records from the iteration 6183:\n",
        "\t test_sequence_log_likelihood: 9.33521842957\n",
        "\t train_sequence_log_likelihood: 8.55719566345\n",
        "\t valid_sequence_log_likelihood: 9.03122711182\n",
        "\n",
        "\n"
       ]
      },
      {
       "output_type": "stream",
       "stream": "stdout",
       "text": [
        "-------------------------------------------------------------------------------\n",
        "AFTER ANOTHER EPOCH\n",
        "-------------------------------------------------------------------------------\n",
        "Training status:\n",
        "\t epochs_done: 28\n",
        "\t iterations_done: 6412\n",
        "Log records from the iteration 6412:\n",
        "\t test_sequence_log_likelihood: 9.54921340942\n",
        "\t train_sequence_log_likelihood: 8.53171825409\n",
        "\t valid_sequence_log_likelihood: 9.17234325409\n",
        "\n",
        "\n"
       ]
      },
      {
       "output_type": "stream",
       "stream": "stdout",
       "text": [
        "-------------------------------------------------------------------------------\n",
        "AFTER ANOTHER EPOCH\n",
        "-------------------------------------------------------------------------------\n",
        "Training status:\n",
        "\t epochs_done: 29\n",
        "\t iterations_done: 6641\n",
        "Log records from the iteration 6641:\n",
        "\t test_sequence_log_likelihood: 9.46071434021\n",
        "\t train_sequence_log_likelihood: 8.51789665222\n",
        "\t valid_sequence_log_likelihood: 9.11627960205\n",
        "\n",
        "\n"
       ]
      },
      {
       "output_type": "stream",
       "stream": "stdout",
       "text": [
        "-------------------------------------------------------------------------------\n",
        "AFTER ANOTHER EPOCH\n",
        "-------------------------------------------------------------------------------\n",
        "Training status:\n",
        "\t epochs_done: 30\n",
        "\t iterations_done: 6870\n",
        "Log records from the iteration 6870:\n",
        "\t test_sequence_log_likelihood: 12.947063446\n",
        "\t train_sequence_log_likelihood: 8.48627948761\n",
        "\t valid_sequence_log_likelihood: 9.67812824249\n",
        "\n",
        "\n"
       ]
      },
      {
       "output_type": "stream",
       "stream": "stdout",
       "text": [
        "-------------------------------------------------------------------------------\n",
        "AFTER ANOTHER EPOCH\n",
        "-------------------------------------------------------------------------------\n",
        "Training status:\n",
        "\t epochs_done: 31\n",
        "\t iterations_done: 7099\n",
        "Log records from the iteration 7099:\n",
        "\t test_sequence_log_likelihood: 8.87196445465\n",
        "\t train_sequence_log_likelihood: 8.4728717804\n",
        "\t valid_sequence_log_likelihood: 9.2174539566\n",
        "\n",
        "\n"
       ]
      },
      {
       "output_type": "stream",
       "stream": "stdout",
       "text": [
        "-------------------------------------------------------------------------------\n",
        "AFTER ANOTHER EPOCH\n",
        "-------------------------------------------------------------------------------\n",
        "Training status:\n",
        "\t epochs_done: 32\n",
        "\t iterations_done: 7328\n",
        "Log records from the iteration 7328:\n",
        "\t test_sequence_log_likelihood: 8.92094993591\n",
        "\t train_sequence_log_likelihood: 8.45069789886\n",
        "\t valid_sequence_log_likelihood: 9.37887191772\n",
        "\n",
        "\n"
       ]
      },
      {
       "output_type": "stream",
       "stream": "stdout",
       "text": [
        "-------------------------------------------------------------------------------\n",
        "AFTER ANOTHER EPOCH\n",
        "-------------------------------------------------------------------------------\n",
        "Training status:\n",
        "\t epochs_done: 33\n",
        "\t iterations_done: 7557\n",
        "Log records from the iteration 7557:\n",
        "\t test_sequence_log_likelihood: 8.84011745453\n",
        "\t train_sequence_log_likelihood: 8.43128490448\n",
        "\t valid_sequence_log_likelihood: 11.5261592865\n",
        "\n",
        "\n"
       ]
      },
      {
       "output_type": "stream",
       "stream": "stdout",
       "text": [
        "-------------------------------------------------------------------------------\n",
        "AFTER ANOTHER EPOCH\n",
        "-------------------------------------------------------------------------------\n",
        "Training status:\n",
        "\t epochs_done: 34\n",
        "\t iterations_done: 7786\n",
        "Log records from the iteration 7786:\n",
        "\t test_sequence_log_likelihood: 9.07308006287\n",
        "\t train_sequence_log_likelihood: 8.41185760498\n",
        "\t valid_sequence_log_likelihood: 8.9277715683\n",
        "\n",
        "\n"
       ]
      },
      {
       "output_type": "stream",
       "stream": "stdout",
       "text": [
        "-------------------------------------------------------------------------------\n",
        "AFTER ANOTHER EPOCH\n",
        "-------------------------------------------------------------------------------\n",
        "Training status:\n",
        "\t epochs_done: 35\n",
        "\t iterations_done: 8015\n",
        "Log records from the iteration 8015:\n",
        "\t test_sequence_log_likelihood: 8.84221076965\n",
        "\t train_sequence_log_likelihood: 8.39264392853\n",
        "\t valid_sequence_log_likelihood: 8.86141777039\n",
        "\n",
        "\n"
       ]
      },
      {
       "output_type": "stream",
       "stream": "stdout",
       "text": [
        "-------------------------------------------------------------------------------\n",
        "AFTER ANOTHER EPOCH\n",
        "-------------------------------------------------------------------------------\n",
        "Training status:\n",
        "\t epochs_done: 36\n",
        "\t iterations_done: 8244\n",
        "Log records from the iteration 8244:\n",
        "\t test_sequence_log_likelihood: 8.94195365906\n",
        "\t train_sequence_log_likelihood: 8.37358188629\n",
        "\t valid_sequence_log_likelihood: 9.08795452118\n",
        "\n",
        "\n"
       ]
      },
      {
       "output_type": "stream",
       "stream": "stdout",
       "text": [
        "-------------------------------------------------------------------------------\n",
        "AFTER ANOTHER EPOCH\n",
        "-------------------------------------------------------------------------------\n",
        "Training status:\n",
        "\t epochs_done: 37\n",
        "\t iterations_done: 8473\n",
        "Log records from the iteration 8473:\n",
        "\t test_sequence_log_likelihood: 8.92644119263\n",
        "\t train_sequence_log_likelihood: 8.35467529297\n",
        "\t valid_sequence_log_likelihood: 9.45892810822\n",
        "\n",
        "\n"
       ]
      },
      {
       "output_type": "stream",
       "stream": "stdout",
       "text": [
        "-------------------------------------------------------------------------------\n",
        "AFTER ANOTHER EPOCH\n",
        "-------------------------------------------------------------------------------\n",
        "Training status:\n",
        "\t epochs_done: 38\n",
        "\t iterations_done: 8702\n",
        "Log records from the iteration 8702:\n",
        "\t test_sequence_log_likelihood: 9.17625713348\n",
        "\t train_sequence_log_likelihood: 8.34016990662\n",
        "\t valid_sequence_log_likelihood: 9.08087921143\n",
        "\n",
        "\n"
       ]
      },
      {
       "output_type": "stream",
       "stream": "stdout",
       "text": [
        "-------------------------------------------------------------------------------\n",
        "AFTER ANOTHER EPOCH\n",
        "-------------------------------------------------------------------------------\n",
        "Training status:\n",
        "\t epochs_done: 39\n",
        "\t iterations_done: 8931\n",
        "Log records from the iteration 8931:\n",
        "\t test_sequence_log_likelihood: 9.15528297424\n",
        "\t train_sequence_log_likelihood: 8.32591629028\n",
        "\t valid_sequence_log_likelihood: 9.46311187744\n",
        "\n",
        "\n"
       ]
      },
      {
       "output_type": "stream",
       "stream": "stdout",
       "text": [
        "-------------------------------------------------------------------------------\n",
        "AFTER ANOTHER EPOCH\n",
        "-------------------------------------------------------------------------------\n",
        "Training status:\n",
        "\t epochs_done: 40\n",
        "\t iterations_done: 9160\n",
        "Log records from the iteration 9160:\n",
        "\t test_sequence_log_likelihood: 9.06723690033\n",
        "\t train_sequence_log_likelihood: 8.3093957901\n",
        "\t valid_sequence_log_likelihood: 9.52698516846\n",
        "\n",
        "\n"
       ]
      },
      {
       "output_type": "stream",
       "stream": "stdout",
       "text": [
        "-------------------------------------------------------------------------------\n",
        "AFTER ANOTHER EPOCH\n",
        "-------------------------------------------------------------------------------\n",
        "Training status:\n",
        "\t epochs_done: 41\n",
        "\t iterations_done: 9389\n",
        "Log records from the iteration 9389:\n",
        "\t test_sequence_log_likelihood: 9.43352603912\n",
        "\t train_sequence_log_likelihood: 8.30132389069\n",
        "\t valid_sequence_log_likelihood: 9.42552661896\n",
        "\n",
        "\n"
       ]
      },
      {
       "output_type": "stream",
       "stream": "stdout",
       "text": [
        "-------------------------------------------------------------------------------\n",
        "AFTER ANOTHER EPOCH\n",
        "-------------------------------------------------------------------------------\n",
        "Training status:\n",
        "\t epochs_done: 42\n",
        "\t iterations_done: 9618\n",
        "Log records from the iteration 9618:\n",
        "\t test_sequence_log_likelihood: 8.91323375702\n",
        "\t train_sequence_log_likelihood: 8.29711437225\n",
        "\t valid_sequence_log_likelihood: 12.0997753143\n",
        "\n",
        "\n"
       ]
      },
      {
       "output_type": "stream",
       "stream": "stdout",
       "text": [
        "-------------------------------------------------------------------------------\n",
        "AFTER ANOTHER EPOCH\n",
        "-------------------------------------------------------------------------------\n",
        "Training status:\n",
        "\t epochs_done: 43\n",
        "\t iterations_done: 9847\n",
        "Log records from the iteration 9847:\n",
        "\t test_sequence_log_likelihood: 9.33824157715\n",
        "\t train_sequence_log_likelihood: 8.28573417664\n",
        "\t valid_sequence_log_likelihood: 8.72438335419\n",
        "\n",
        "\n"
       ]
      },
      {
       "output_type": "stream",
       "stream": "stdout",
       "text": [
        "-------------------------------------------------------------------------------\n",
        "AFTER ANOTHER EPOCH\n",
        "-------------------------------------------------------------------------------\n",
        "Training status:\n",
        "\t epochs_done: 44\n",
        "\t iterations_done: 10076\n",
        "Log records from the iteration 10076:\n",
        "\t test_sequence_log_likelihood: 9.31497383118\n",
        "\t train_sequence_log_likelihood: 8.26232814789\n",
        "\t valid_sequence_log_likelihood: 8.99101638794\n",
        "\n",
        "\n"
       ]
      },
      {
       "output_type": "stream",
       "stream": "stdout",
       "text": [
        "-------------------------------------------------------------------------------\n",
        "AFTER ANOTHER EPOCH\n",
        "-------------------------------------------------------------------------------\n",
        "Training status:\n",
        "\t epochs_done: 45\n",
        "\t iterations_done: 10305\n",
        "Log records from the iteration 10305:\n",
        "\t test_sequence_log_likelihood: 9.23551845551\n",
        "\t train_sequence_log_likelihood: 8.24557304382\n",
        "\t valid_sequence_log_likelihood: 8.95511054993\n",
        "\n",
        "\n"
       ]
      },
      {
       "output_type": "stream",
       "stream": "stdout",
       "text": [
        "-------------------------------------------------------------------------------\n",
        "AFTER ANOTHER EPOCH\n",
        "-------------------------------------------------------------------------------\n",
        "Training status:\n",
        "\t epochs_done: 46\n",
        "\t iterations_done: 10534\n",
        "Log records from the iteration 10534:\n",
        "\t test_sequence_log_likelihood: 9.11524200439\n",
        "\t train_sequence_log_likelihood: 8.23083782196\n",
        "\t valid_sequence_log_likelihood: 9.11250686646\n",
        "\n",
        "\n"
       ]
      },
      {
       "output_type": "stream",
       "stream": "stdout",
       "text": [
        "-------------------------------------------------------------------------------\n",
        "AFTER ANOTHER EPOCH\n",
        "-------------------------------------------------------------------------------\n",
        "Training status:\n",
        "\t epochs_done: 47\n",
        "\t iterations_done: 10763\n",
        "Log records from the iteration 10763:\n",
        "\t test_sequence_log_likelihood: 10.3494768143\n",
        "\t train_sequence_log_likelihood: 8.2225522995\n",
        "\t valid_sequence_log_likelihood: 9.29803943634\n",
        "\n",
        "\n"
       ]
      },
      {
       "output_type": "stream",
       "stream": "stdout",
       "text": [
        "-------------------------------------------------------------------------------\n",
        "AFTER ANOTHER EPOCH\n",
        "-------------------------------------------------------------------------------\n",
        "Training status:\n",
        "\t epochs_done: 48\n",
        "\t iterations_done: 10992\n",
        "Log records from the iteration 10992:\n",
        "\t test_sequence_log_likelihood: 8.89259910583\n",
        "\t train_sequence_log_likelihood: 8.21332836151\n",
        "\t valid_sequence_log_likelihood: 9.59388828278\n",
        "\n",
        "\n"
       ]
      },
      {
       "output_type": "stream",
       "stream": "stdout",
       "text": [
        "-------------------------------------------------------------------------------\n",
        "AFTER ANOTHER EPOCH\n",
        "-------------------------------------------------------------------------------\n",
        "Training status:\n",
        "\t epochs_done: 49\n",
        "\t iterations_done: 11221\n",
        "Log records from the iteration 11221:\n",
        "\t test_sequence_log_likelihood: 8.92092990875\n",
        "\t train_sequence_log_likelihood: 8.19742298126\n",
        "\t valid_sequence_log_likelihood: 8.89411067963\n",
        "\n",
        "\n"
       ]
      },
      {
       "output_type": "stream",
       "stream": "stdout",
       "text": [
        "-------------------------------------------------------------------------------\n",
        "AFTER ANOTHER EPOCH\n",
        "-------------------------------------------------------------------------------\n",
        "Training status:\n",
        "\t epochs_done: 50\n",
        "\t iterations_done: 11450\n",
        "Log records from the iteration 11450:\n",
        "\t test_sequence_log_likelihood: 9.16327667236\n",
        "\t train_sequence_log_likelihood: 8.18489265442\n",
        "\t valid_sequence_log_likelihood: 9.30712604523\n",
        "\n",
        "\n"
       ]
      },
      {
       "output_type": "stream",
       "stream": "stdout",
       "text": [
        "-------------------------------------------------------------------------------\n",
        "AFTER ANOTHER EPOCH\n",
        "-------------------------------------------------------------------------------\n",
        "Training status:\n",
        "\t epochs_done: 51\n",
        "\t iterations_done: 11679\n",
        "Log records from the iteration 11679:\n",
        "\t test_sequence_log_likelihood: 8.95643424988\n",
        "\t train_sequence_log_likelihood: 8.18184280396\n",
        "\t valid_sequence_log_likelihood: 9.39746856689\n",
        "\n",
        "\n"
       ]
      },
      {
       "output_type": "stream",
       "stream": "stdout",
       "text": [
        "-------------------------------------------------------------------------------\n",
        "AFTER ANOTHER EPOCH\n",
        "-------------------------------------------------------------------------------\n",
        "Training status:\n",
        "\t epochs_done: 52\n",
        "\t iterations_done: 11908\n",
        "Log records from the iteration 11908:\n",
        "\t test_sequence_log_likelihood: 10.0577373505\n",
        "\t train_sequence_log_likelihood: 8.17080116272\n",
        "\t valid_sequence_log_likelihood: 9.22853946686\n",
        "\n",
        "\n"
       ]
      },
      {
       "output_type": "stream",
       "stream": "stdout",
       "text": [
        "-------------------------------------------------------------------------------\n",
        "AFTER ANOTHER EPOCH\n",
        "-------------------------------------------------------------------------------\n",
        "Training status:\n",
        "\t epochs_done: 53\n",
        "\t iterations_done: 12137\n",
        "Log records from the iteration 12137:\n",
        "\t test_sequence_log_likelihood: 9.63022327423\n",
        "\t train_sequence_log_likelihood: 8.16060161591\n",
        "\t valid_sequence_log_likelihood: 9.14624881744\n",
        "\n",
        "\n"
       ]
      },
      {
       "output_type": "stream",
       "stream": "stdout",
       "text": [
        "-------------------------------------------------------------------------------\n",
        "AFTER ANOTHER EPOCH\n",
        "-------------------------------------------------------------------------------\n",
        "Training status:\n",
        "\t epochs_done: 54\n",
        "\t iterations_done: 12366\n",
        "Log records from the iteration 12366:\n",
        "\t test_sequence_log_likelihood: 9.64744853973\n",
        "\t train_sequence_log_likelihood: 8.1499376297\n",
        "\t valid_sequence_log_likelihood: 10.3511371613\n",
        "\n",
        "\n"
       ]
      },
      {
       "output_type": "stream",
       "stream": "stdout",
       "text": [
        "-------------------------------------------------------------------------------\n",
        "AFTER ANOTHER EPOCH\n",
        "-------------------------------------------------------------------------------\n",
        "Training status:\n",
        "\t epochs_done: 55\n",
        "\t iterations_done: 12595\n",
        "Log records from the iteration 12595:\n",
        "\t test_sequence_log_likelihood: 9.10130596161\n",
        "\t train_sequence_log_likelihood: 8.1413564682\n",
        "\t valid_sequence_log_likelihood: 8.93024253845\n",
        "\n",
        "\n"
       ]
      },
      {
       "output_type": "stream",
       "stream": "stdout",
       "text": [
        "-------------------------------------------------------------------------------\n",
        "AFTER ANOTHER EPOCH\n",
        "-------------------------------------------------------------------------------\n",
        "Training status:\n",
        "\t epochs_done: 56\n",
        "\t iterations_done: 12824\n",
        "Log records from the iteration 12824:\n",
        "\t test_sequence_log_likelihood: 9.97962474823\n",
        "\t train_sequence_log_likelihood: 8.13224506378\n",
        "\t valid_sequence_log_likelihood: 8.99156284332\n",
        "\n",
        "\n"
       ]
      },
      {
       "output_type": "stream",
       "stream": "stdout",
       "text": [
        "-------------------------------------------------------------------------------\n",
        "AFTER ANOTHER EPOCH\n",
        "-------------------------------------------------------------------------------\n",
        "Training status:\n",
        "\t epochs_done: 57\n",
        "\t iterations_done: 13053\n",
        "Log records from the iteration 13053:\n",
        "\t test_sequence_log_likelihood: 10.9663763046\n",
        "\t train_sequence_log_likelihood: 8.11718654633\n",
        "\t valid_sequence_log_likelihood: 9.51932144165\n",
        "\n",
        "\n"
       ]
      },
      {
       "output_type": "stream",
       "stream": "stdout",
       "text": [
        "-------------------------------------------------------------------------------\n",
        "AFTER ANOTHER EPOCH\n",
        "-------------------------------------------------------------------------------\n",
        "Training status:\n",
        "\t epochs_done: 58\n",
        "\t iterations_done: 13282\n",
        "Log records from the iteration 13282:\n",
        "\t test_sequence_log_likelihood: 9.07116127014\n",
        "\t train_sequence_log_likelihood: 8.1139755249\n",
        "\t valid_sequence_log_likelihood: 9.56406974792\n",
        "\n",
        "\n"
       ]
      },
      {
       "output_type": "stream",
       "stream": "stdout",
       "text": [
        "-------------------------------------------------------------------------------\n",
        "AFTER ANOTHER EPOCH\n",
        "-------------------------------------------------------------------------------\n",
        "Training status:\n",
        "\t epochs_done: 59\n",
        "\t iterations_done: 13511\n",
        "Log records from the iteration 13511:\n",
        "\t test_sequence_log_likelihood: 9.45077133179\n",
        "\t train_sequence_log_likelihood: 8.11029720306\n",
        "\t valid_sequence_log_likelihood: 9.18837738037\n",
        "\n",
        "\n"
       ]
      },
      {
       "output_type": "stream",
       "stream": "stdout",
       "text": [
        "-------------------------------------------------------------------------------\n",
        "AFTER ANOTHER EPOCH\n",
        "-------------------------------------------------------------------------------\n",
        "Training status:\n",
        "\t epochs_done: 60\n",
        "\t iterations_done: 13740\n",
        "Log records from the iteration 13740:\n",
        "\t test_sequence_log_likelihood: 11.1868638992\n",
        "\t train_sequence_log_likelihood: 8.10033226013\n",
        "\t valid_sequence_log_likelihood: 9.99776268005\n",
        "\n",
        "\n"
       ]
      },
      {
       "output_type": "stream",
       "stream": "stdout",
       "text": [
        "-------------------------------------------------------------------------------\n",
        "AFTER ANOTHER EPOCH\n",
        "-------------------------------------------------------------------------------\n",
        "Training status:\n",
        "\t epochs_done: 61\n",
        "\t iterations_done: 13969\n",
        "Log records from the iteration 13969:\n",
        "\t test_sequence_log_likelihood: 13.9327459335\n",
        "\t train_sequence_log_likelihood: 8.0854101181\n",
        "\t valid_sequence_log_likelihood: 9.2832069397\n",
        "\n",
        "\n"
       ]
      },
      {
       "output_type": "stream",
       "stream": "stdout",
       "text": [
        "-------------------------------------------------------------------------------\n",
        "AFTER ANOTHER EPOCH\n",
        "-------------------------------------------------------------------------------\n",
        "Training status:\n",
        "\t epochs_done: 62\n",
        "\t iterations_done: 14198\n",
        "Log records from the iteration 14198:\n",
        "\t test_sequence_log_likelihood: 8.97519397736\n",
        "\t train_sequence_log_likelihood: 8.0908164978\n",
        "\t valid_sequence_log_likelihood: 10.228266716\n",
        "\n",
        "\n"
       ]
      },
      {
       "output_type": "stream",
       "stream": "stdout",
       "text": [
        "-------------------------------------------------------------------------------\n",
        "AFTER ANOTHER EPOCH\n",
        "-------------------------------------------------------------------------------\n",
        "Training status:\n",
        "\t epochs_done: 63\n",
        "\t iterations_done: 14427\n",
        "Log records from the iteration 14427:\n",
        "\t test_sequence_log_likelihood: 8.87990951538\n",
        "\t train_sequence_log_likelihood: 8.07586765289\n",
        "\t valid_sequence_log_likelihood: 9.43871688843\n",
        "\n",
        "\n"
       ]
      },
      {
       "output_type": "stream",
       "stream": "stdout",
       "text": [
        "-------------------------------------------------------------------------------\n",
        "AFTER ANOTHER EPOCH\n",
        "-------------------------------------------------------------------------------\n",
        "Training status:\n",
        "\t epochs_done: 64\n",
        "\t iterations_done: 14656\n",
        "Log records from the iteration 14656:\n",
        "\t test_sequence_log_likelihood: 8.89872264862\n",
        "\t train_sequence_log_likelihood: 8.0668554306\n",
        "\t valid_sequence_log_likelihood: 9.22456932068\n",
        "\n",
        "\n"
       ]
      },
      {
       "output_type": "stream",
       "stream": "stdout",
       "text": [
        "-------------------------------------------------------------------------------\n",
        "AFTER ANOTHER EPOCH\n",
        "-------------------------------------------------------------------------------\n",
        "Training status:\n",
        "\t epochs_done: 65\n",
        "\t iterations_done: 14885\n",
        "Log records from the iteration 14885:\n",
        "\t test_sequence_log_likelihood: 11.3140945435\n",
        "\t train_sequence_log_likelihood: 8.06011867523\n",
        "\t valid_sequence_log_likelihood: 9.21197795868\n",
        "\n",
        "\n"
       ]
      },
      {
       "output_type": "stream",
       "stream": "stdout",
       "text": [
        "-------------------------------------------------------------------------------\n",
        "AFTER ANOTHER EPOCH\n",
        "-------------------------------------------------------------------------------\n",
        "Training status:\n",
        "\t epochs_done: 66\n",
        "\t iterations_done: 15114\n",
        "Log records from the iteration 15114:\n",
        "\t test_sequence_log_likelihood: 8.87504577637\n",
        "\t train_sequence_log_likelihood: 8.05079746246\n",
        "\t valid_sequence_log_likelihood: 9.62853050232\n",
        "\n",
        "\n"
       ]
      },
      {
       "output_type": "stream",
       "stream": "stdout",
       "text": [
        "-------------------------------------------------------------------------------\n",
        "AFTER ANOTHER EPOCH\n",
        "-------------------------------------------------------------------------------\n",
        "Training status:\n",
        "\t epochs_done: 67\n",
        "\t iterations_done: 15343\n",
        "Log records from the iteration 15343:\n",
        "\t test_sequence_log_likelihood: 9.07861995697\n",
        "\t train_sequence_log_likelihood: 8.05015563965\n",
        "\t valid_sequence_log_likelihood: 11.7880830765\n",
        "\n",
        "\n"
       ]
      },
      {
       "output_type": "stream",
       "stream": "stdout",
       "text": [
        "-------------------------------------------------------------------------------\n",
        "AFTER ANOTHER EPOCH\n",
        "-------------------------------------------------------------------------------\n",
        "Training status:\n",
        "\t epochs_done: 68\n",
        "\t iterations_done: 15572\n",
        "Log records from the iteration 15572:\n",
        "\t test_sequence_log_likelihood: 8.9037733078\n",
        "\t train_sequence_log_likelihood: 8.03646564484\n",
        "\t valid_sequence_log_likelihood: 9.08445167542\n",
        "\n",
        "\n"
       ]
      },
      {
       "output_type": "stream",
       "stream": "stdout",
       "text": [
        "-------------------------------------------------------------------------------\n",
        "AFTER ANOTHER EPOCH\n",
        "-------------------------------------------------------------------------------\n",
        "Training status:\n",
        "\t epochs_done: 69\n",
        "\t iterations_done: 15801\n",
        "Log records from the iteration 15801:\n",
        "\t test_sequence_log_likelihood: 8.95507335663\n",
        "\t train_sequence_log_likelihood: 8.03246593475\n",
        "\t valid_sequence_log_likelihood: 8.9407377243\n",
        "\n",
        "\n"
       ]
      },
      {
       "output_type": "stream",
       "stream": "stdout",
       "text": [
        "-------------------------------------------------------------------------------\n",
        "AFTER ANOTHER EPOCH\n",
        "-------------------------------------------------------------------------------\n",
        "Training status:\n",
        "\t epochs_done: 70\n",
        "\t iterations_done: 16030\n",
        "Log records from the iteration 16030:\n",
        "\t test_sequence_log_likelihood: 9.16425514221\n",
        "\t train_sequence_log_likelihood: 8.02136039734\n",
        "\t valid_sequence_log_likelihood: 9.68922138214\n",
        "\n",
        "\n"
       ]
      },
      {
       "output_type": "stream",
       "stream": "stdout",
       "text": [
        "-------------------------------------------------------------------------------\n",
        "AFTER ANOTHER EPOCH\n",
        "-------------------------------------------------------------------------------\n",
        "Training status:\n",
        "\t epochs_done: 71\n",
        "\t iterations_done: 16259\n",
        "Log records from the iteration 16259:\n",
        "\t test_sequence_log_likelihood: 9.11354923248\n",
        "\t train_sequence_log_likelihood: 8.01672458649\n",
        "\t valid_sequence_log_likelihood: 9.00119304657\n",
        "\n",
        "\n"
       ]
      },
      {
       "output_type": "stream",
       "stream": "stdout",
       "text": [
        "-------------------------------------------------------------------------------\n",
        "AFTER ANOTHER EPOCH\n",
        "-------------------------------------------------------------------------------\n",
        "Training status:\n",
        "\t epochs_done: 72\n",
        "\t iterations_done: 16488\n",
        "Log records from the iteration 16488:\n",
        "\t test_sequence_log_likelihood: 9.03979969025\n",
        "\t train_sequence_log_likelihood: 8.02077674866\n",
        "\t valid_sequence_log_likelihood: 10.2955055237\n",
        "\n",
        "\n"
       ]
      },
      {
       "output_type": "stream",
       "stream": "stdout",
       "text": [
        "-------------------------------------------------------------------------------\n",
        "AFTER ANOTHER EPOCH\n",
        "-------------------------------------------------------------------------------\n",
        "Training status:\n",
        "\t epochs_done: 73\n",
        "\t iterations_done: 16717\n",
        "Log records from the iteration 16717:\n",
        "\t test_sequence_log_likelihood: 9.49771022797\n",
        "\t train_sequence_log_likelihood: 8.0038766861\n",
        "\t valid_sequence_log_likelihood: 9.02913188934\n",
        "\n",
        "\n"
       ]
      },
      {
       "output_type": "stream",
       "stream": "stdout",
       "text": [
        "-------------------------------------------------------------------------------\n",
        "AFTER ANOTHER EPOCH\n",
        "-------------------------------------------------------------------------------\n",
        "Training status:\n",
        "\t epochs_done: 74\n",
        "\t iterations_done: 16946\n",
        "Log records from the iteration 16946:\n",
        "\t test_sequence_log_likelihood: 9.17886352539\n",
        "\t train_sequence_log_likelihood: 8.01253032684\n",
        "\t valid_sequence_log_likelihood: 9.02485847473\n",
        "\n",
        "\n"
       ]
      },
      {
       "output_type": "stream",
       "stream": "stdout",
       "text": [
        "-------------------------------------------------------------------------------\n",
        "AFTER ANOTHER EPOCH\n",
        "-------------------------------------------------------------------------------\n",
        "Training status:\n",
        "\t epochs_done: 75\n",
        "\t iterations_done: 17175\n",
        "Log records from the iteration 17175:\n",
        "\t test_sequence_log_likelihood: 12.9398078918\n",
        "\t train_sequence_log_likelihood: 7.9994893074\n",
        "\t valid_sequence_log_likelihood: 9.12105751038\n",
        "\n",
        "\n"
       ]
      },
      {
       "output_type": "stream",
       "stream": "stdout",
       "text": [
        "-------------------------------------------------------------------------------\n",
        "AFTER ANOTHER EPOCH\n",
        "-------------------------------------------------------------------------------\n",
        "Training status:\n",
        "\t epochs_done: 76\n",
        "\t iterations_done: 17404\n",
        "Log records from the iteration 17404:\n",
        "\t test_sequence_log_likelihood: 9.4165391922\n",
        "\t train_sequence_log_likelihood: 7.99137020111\n",
        "\t valid_sequence_log_likelihood: 10.2705745697\n",
        "\n",
        "\n"
       ]
      },
      {
       "output_type": "stream",
       "stream": "stdout",
       "text": [
        "-------------------------------------------------------------------------------\n",
        "AFTER ANOTHER EPOCH\n",
        "-------------------------------------------------------------------------------\n",
        "Training status:\n",
        "\t epochs_done: 77\n",
        "\t iterations_done: 17633\n",
        "Log records from the iteration 17633:\n",
        "\t test_sequence_log_likelihood: 9.43873119354\n",
        "\t train_sequence_log_likelihood: 7.98357629776\n",
        "\t valid_sequence_log_likelihood: 9.06366252899\n",
        "\n",
        "\n"
       ]
      },
      {
       "output_type": "stream",
       "stream": "stdout",
       "text": [
        "-------------------------------------------------------------------------------\n",
        "AFTER ANOTHER EPOCH\n",
        "-------------------------------------------------------------------------------\n",
        "Training status:\n",
        "\t epochs_done: 78\n",
        "\t iterations_done: 17862\n",
        "Log records from the iteration 17862:\n",
        "\t test_sequence_log_likelihood: 9.20733356476\n",
        "\t train_sequence_log_likelihood: 7.97897148132\n",
        "\t valid_sequence_log_likelihood: 9.71095943451\n",
        "\n",
        "\n"
       ]
      },
      {
       "output_type": "stream",
       "stream": "stdout",
       "text": [
        "-------------------------------------------------------------------------------\n",
        "AFTER ANOTHER EPOCH\n",
        "-------------------------------------------------------------------------------\n",
        "Training status:\n",
        "\t epochs_done: 79\n",
        "\t iterations_done: 18091\n",
        "Log records from the iteration 18091:\n",
        "\t test_sequence_log_likelihood: 9.46918678284\n",
        "\t train_sequence_log_likelihood: 7.96783924103\n",
        "\t valid_sequence_log_likelihood: 9.52183628082\n",
        "\n",
        "\n"
       ]
      },
      {
       "output_type": "stream",
       "stream": "stdout",
       "text": [
        "-------------------------------------------------------------------------------\n",
        "AFTER ANOTHER EPOCH\n",
        "-------------------------------------------------------------------------------\n",
        "Training status:\n",
        "\t epochs_done: 80\n",
        "\t iterations_done: 18320\n",
        "Log records from the iteration 18320:\n",
        "\t test_sequence_log_likelihood: 9.787109375\n",
        "\t train_sequence_log_likelihood: 7.97162342072\n",
        "\t valid_sequence_log_likelihood: 10.3529748917\n",
        "\n",
        "\n"
       ]
      },
      {
       "output_type": "stream",
       "stream": "stdout",
       "text": [
        "-------------------------------------------------------------------------------\n",
        "AFTER ANOTHER EPOCH\n",
        "-------------------------------------------------------------------------------\n",
        "Training status:\n",
        "\t epochs_done: 81\n",
        "\t iterations_done: 18549\n",
        "Log records from the iteration 18549:\n",
        "\t test_sequence_log_likelihood: 9.34245681763\n",
        "\t train_sequence_log_likelihood: 7.97804689407\n",
        "\t valid_sequence_log_likelihood: 8.81162166595\n",
        "\n",
        "\n"
       ]
      },
      {
       "output_type": "stream",
       "stream": "stdout",
       "text": [
        "-------------------------------------------------------------------------------\n",
        "AFTER ANOTHER EPOCH\n",
        "-------------------------------------------------------------------------------\n",
        "Training status:\n",
        "\t epochs_done: 82\n",
        "\t iterations_done: 18778\n",
        "Log records from the iteration 18778:\n",
        "\t test_sequence_log_likelihood: 9.17775344849\n",
        "\t train_sequence_log_likelihood: 7.96550559998\n",
        "\t valid_sequence_log_likelihood: 9.21496391296\n",
        "\n",
        "\n"
       ]
      },
      {
       "output_type": "stream",
       "stream": "stdout",
       "text": [
        "-------------------------------------------------------------------------------\n",
        "AFTER ANOTHER EPOCH\n",
        "-------------------------------------------------------------------------------\n",
        "Training status:\n",
        "\t epochs_done: 83\n",
        "\t iterations_done: 19007\n",
        "Log records from the iteration 19007:\n",
        "\t test_sequence_log_likelihood: 9.27416801453\n",
        "\t train_sequence_log_likelihood: 7.9493932724\n",
        "\t valid_sequence_log_likelihood: 9.18375873566\n",
        "\n",
        "\n"
       ]
      },
      {
       "output_type": "stream",
       "stream": "stdout",
       "text": [
        "-------------------------------------------------------------------------------\n",
        "AFTER ANOTHER EPOCH\n",
        "-------------------------------------------------------------------------------\n",
        "Training status:\n",
        "\t epochs_done: 84\n",
        "\t iterations_done: 19236\n",
        "Log records from the iteration 19236:\n",
        "\t test_sequence_log_likelihood: 9.51619148254\n",
        "\t train_sequence_log_likelihood: 7.947889328\n",
        "\t valid_sequence_log_likelihood: 10.1315689087\n",
        "\n",
        "\n"
       ]
      },
      {
       "output_type": "stream",
       "stream": "stdout",
       "text": [
        "-------------------------------------------------------------------------------\n",
        "AFTER ANOTHER EPOCH\n",
        "-------------------------------------------------------------------------------\n",
        "Training status:\n",
        "\t epochs_done: 85\n",
        "\t iterations_done: 19465\n",
        "Log records from the iteration 19465:\n",
        "\t test_sequence_log_likelihood: 9.62265586853\n",
        "\t train_sequence_log_likelihood: 7.93665075302\n",
        "\t valid_sequence_log_likelihood: 9.02186775208\n",
        "\n",
        "\n"
       ]
      },
      {
       "output_type": "stream",
       "stream": "stdout",
       "text": [
        "-------------------------------------------------------------------------------\n",
        "AFTER ANOTHER EPOCH\n",
        "-------------------------------------------------------------------------------\n",
        "Training status:\n",
        "\t epochs_done: 86\n",
        "\t iterations_done: 19694\n",
        "Log records from the iteration 19694:\n",
        "\t test_sequence_log_likelihood: 9.807056427\n",
        "\t train_sequence_log_likelihood: 7.92619895935\n",
        "\t valid_sequence_log_likelihood: 9.94027900696\n",
        "\n",
        "\n"
       ]
      },
      {
       "output_type": "stream",
       "stream": "stdout",
       "text": [
        "-------------------------------------------------------------------------------\n",
        "AFTER ANOTHER EPOCH\n",
        "-------------------------------------------------------------------------------\n",
        "Training status:\n",
        "\t epochs_done: 87\n",
        "\t iterations_done: 19923\n",
        "Log records from the iteration 19923:\n",
        "\t test_sequence_log_likelihood: 9.264128685\n",
        "\t train_sequence_log_likelihood: 7.92955446243\n",
        "\t valid_sequence_log_likelihood: 9.5747461319\n",
        "\n",
        "\n"
       ]
      },
      {
       "output_type": "stream",
       "stream": "stdout",
       "text": [
        "-------------------------------------------------------------------------------\n",
        "AFTER ANOTHER EPOCH\n",
        "-------------------------------------------------------------------------------\n",
        "Training status:\n",
        "\t epochs_done: 88\n",
        "\t iterations_done: 20152\n",
        "Log records from the iteration 20152:\n",
        "\t test_sequence_log_likelihood: 9.4467754364\n",
        "\t train_sequence_log_likelihood: 7.9255361557\n",
        "\t valid_sequence_log_likelihood: 8.89367389679\n",
        "\n",
        "\n"
       ]
      },
      {
       "output_type": "stream",
       "stream": "stdout",
       "text": [
        "-------------------------------------------------------------------------------\n",
        "AFTER ANOTHER EPOCH\n",
        "-------------------------------------------------------------------------------\n",
        "Training status:\n",
        "\t epochs_done: 89\n",
        "\t iterations_done: 20381\n",
        "Log records from the iteration 20381:\n",
        "\t test_sequence_log_likelihood: 9.97718429565\n",
        "\t train_sequence_log_likelihood: 7.9424738884\n",
        "\t valid_sequence_log_likelihood: 9.17107772827\n",
        "\n",
        "\n"
       ]
      },
      {
       "output_type": "stream",
       "stream": "stdout",
       "text": [
        "-------------------------------------------------------------------------------\n",
        "AFTER ANOTHER EPOCH\n",
        "-------------------------------------------------------------------------------\n",
        "Training status:\n",
        "\t epochs_done: 90\n",
        "\t iterations_done: 20610\n",
        "Log records from the iteration 20610:\n",
        "\t test_sequence_log_likelihood: 9.58899974823\n",
        "\t train_sequence_log_likelihood: 7.91354703903\n",
        "\t valid_sequence_log_likelihood: 9.60063648224\n",
        "\n",
        "\n"
       ]
      },
      {
       "output_type": "stream",
       "stream": "stdout",
       "text": [
        "-------------------------------------------------------------------------------\n",
        "AFTER ANOTHER EPOCH\n",
        "-------------------------------------------------------------------------------\n",
        "Training status:\n",
        "\t epochs_done: 91\n",
        "\t iterations_done: 20839\n",
        "Log records from the iteration 20839:\n",
        "\t test_sequence_log_likelihood: 9.30982303619\n",
        "\t train_sequence_log_likelihood: 7.91529560089\n",
        "\t valid_sequence_log_likelihood: 9.02134990692\n",
        "\n",
        "\n"
       ]
      },
      {
       "output_type": "stream",
       "stream": "stdout",
       "text": [
        "-------------------------------------------------------------------------------\n",
        "AFTER ANOTHER EPOCH\n",
        "-------------------------------------------------------------------------------\n",
        "Training status:\n",
        "\t epochs_done: 92\n",
        "\t iterations_done: 21068\n",
        "Log records from the iteration 21068:\n",
        "\t test_sequence_log_likelihood: 9.3317565918\n",
        "\t train_sequence_log_likelihood: 7.90058851242\n",
        "\t valid_sequence_log_likelihood: 9.54315662384\n",
        "\n",
        "\n"
       ]
      },
      {
       "output_type": "stream",
       "stream": "stdout",
       "text": [
        "-------------------------------------------------------------------------------\n",
        "AFTER ANOTHER EPOCH\n",
        "-------------------------------------------------------------------------------\n",
        "Training status:\n",
        "\t epochs_done: 93\n",
        "\t iterations_done: 21297\n",
        "Log records from the iteration 21297:\n",
        "\t test_sequence_log_likelihood: 10.9732942581\n",
        "\t train_sequence_log_likelihood: 7.89270210266\n",
        "\t valid_sequence_log_likelihood: 10.7303514481\n",
        "\n",
        "\n"
       ]
      },
      {
       "output_type": "stream",
       "stream": "stdout",
       "text": [
        "-------------------------------------------------------------------------------\n",
        "AFTER ANOTHER EPOCH\n",
        "-------------------------------------------------------------------------------\n",
        "Training status:\n",
        "\t epochs_done: 94\n",
        "\t iterations_done: 21526\n",
        "Log records from the iteration 21526:\n",
        "\t test_sequence_log_likelihood: 9.38461971283\n",
        "\t train_sequence_log_likelihood: 7.89978981018\n",
        "\t valid_sequence_log_likelihood: 9.57057571411\n",
        "\n",
        "\n"
       ]
      },
      {
       "output_type": "stream",
       "stream": "stdout",
       "text": [
        "-------------------------------------------------------------------------------\n",
        "AFTER ANOTHER EPOCH\n",
        "-------------------------------------------------------------------------------\n",
        "Training status:\n",
        "\t epochs_done: 95\n",
        "\t iterations_done: 21755\n",
        "Log records from the iteration 21755:\n",
        "\t test_sequence_log_likelihood: 9.06534767151\n",
        "\t train_sequence_log_likelihood: 7.89829206467\n",
        "\t valid_sequence_log_likelihood: 9.21898555756\n",
        "\n",
        "\n"
       ]
      },
      {
       "output_type": "stream",
       "stream": "stdout",
       "text": [
        "-------------------------------------------------------------------------------\n",
        "AFTER ANOTHER EPOCH\n",
        "-------------------------------------------------------------------------------\n",
        "Training status:\n",
        "\t epochs_done: 96\n",
        "\t iterations_done: 21984\n",
        "Log records from the iteration 21984:\n",
        "\t test_sequence_log_likelihood: 9.2264995575\n",
        "\t train_sequence_log_likelihood: 7.88807916641\n",
        "\t valid_sequence_log_likelihood: 9.5773191452\n",
        "\n",
        "\n"
       ]
      },
      {
       "output_type": "stream",
       "stream": "stdout",
       "text": [
        "-------------------------------------------------------------------------------\n",
        "AFTER ANOTHER EPOCH\n",
        "-------------------------------------------------------------------------------\n",
        "Training status:\n",
        "\t epochs_done: 97\n",
        "\t iterations_done: 22213\n",
        "Log records from the iteration 22213:\n",
        "\t test_sequence_log_likelihood: 9.37216091156\n",
        "\t train_sequence_log_likelihood: 7.87892103195\n",
        "\t valid_sequence_log_likelihood: 9.45323467255\n",
        "\n",
        "\n"
       ]
      },
      {
       "output_type": "stream",
       "stream": "stdout",
       "text": [
        "-------------------------------------------------------------------------------\n",
        "AFTER ANOTHER EPOCH\n",
        "-------------------------------------------------------------------------------\n",
        "Training status:\n",
        "\t epochs_done: 98\n",
        "\t iterations_done: 22442\n",
        "Log records from the iteration 22442:\n",
        "\t test_sequence_log_likelihood: 9.15624904633\n",
        "\t train_sequence_log_likelihood: 7.88360548019\n",
        "\t valid_sequence_log_likelihood: 9.50130176544\n",
        "\n",
        "\n"
       ]
      },
      {
       "output_type": "stream",
       "stream": "stdout",
       "text": [
        "-------------------------------------------------------------------------------\n",
        "AFTER ANOTHER EPOCH\n",
        "-------------------------------------------------------------------------------\n",
        "Training status:\n",
        "\t epochs_done: 99\n",
        "\t iterations_done: 22671\n",
        "Log records from the iteration 22671:\n",
        "\t test_sequence_log_likelihood: 9.59429073334\n",
        "\t train_sequence_log_likelihood: 7.87264347076\n",
        "\t valid_sequence_log_likelihood: 10.0189352036\n",
        "\n",
        "\n"
       ]
      },
      {
       "output_type": "stream",
       "stream": "stdout",
       "text": [
        "-------------------------------------------------------------------------------\n",
        "AFTER ANOTHER EPOCH\n",
        "-------------------------------------------------------------------------------\n",
        "Training status:\n",
        "\t epochs_done: 100\n",
        "\t iterations_done: 22900\n",
        "Log records from the iteration 22900:\n",
        "\t test_sequence_log_likelihood: 11.3405399323\n",
        "\t train_sequence_log_likelihood: 7.86959314346\n",
        "\t training_finish_requested: True\n",
        "\t valid_sequence_log_likelihood: 9.01933002472\n",
        "\n",
        "\n",
        "-------------------------------------------------------------------------------\n",
        "TRAINING HAS BEEN FINISHED:\n",
        "-------------------------------------------------------------------------------\n",
        "Training status:\n",
        "\t epochs_done: 100\n",
        "\t iterations_done: 22900\n",
        "Log records from the iteration 22900:\n",
        "\t test_sequence_log_likelihood: 11.3405399323\n",
        "\t train_sequence_log_likelihood: 7.86959314346\n",
        "\t training_finish_requested: True\n",
        "\t training_finished: True\n",
        "\t valid_sequence_log_likelihood: 9.01933002472\n",
        "\n"
       ]
      }
     ],
     "prompt_number": 4
    },
    {
     "cell_type": "code",
     "collapsed": false,
     "input": [
      "RNN.W.get_value()"
     ],
     "language": "python",
     "metadata": {},
     "outputs": [
      {
       "metadata": {},
       "output_type": "pyout",
       "prompt_number": 5,
       "text": [
        "array([  7.64556369e-03,  -1.12429112e-02,  -1.37316471e-03,\n",
        "         5.28146978e-03,  -8.37879535e-03,   1.60080451e-03,\n",
        "        -6.71908446e-03,   7.13120541e-03,   1.30790770e-02,\n",
        "        -7.64275203e-04,  -3.80641402e-04,   3.97207402e-03,\n",
        "         1.06865028e-03,  -7.41479266e-03,  -4.67641838e-03,\n",
        "        -3.77409905e-03,  -1.04616666e-02,  -1.46204149e-02,\n",
        "        -7.31603568e-03,  -1.98591920e-03,   1.69958454e-02,\n",
        "        -1.71224829e-02,   2.80601555e-04,   8.22969247e-03,\n",
        "         3.71123594e-03,   1.78842414e-02,   4.98409243e-03,\n",
        "         1.08513338e-02,  -1.66491896e-03,   8.32113530e-03,\n",
        "        -2.48410180e-03,   6.15986995e-03,   2.60509383e-02,\n",
        "        -1.08450800e-02,   7.91752338e-03,   4.22274740e-03,\n",
        "         7.78383110e-03,  -2.88396212e-03,   7.90130626e-03,\n",
        "         2.34810496e-03,   2.27363203e-02,  -2.91154976e-03,\n",
        "        -7.98106641e-02,   1.03723891e-02,  -1.15065612e-02,\n",
        "        -9.10019651e-02,   1.53547553e-02,  -2.90602427e-02,\n",
        "        -1.31002292e-01,   5.33228219e-01,   9.18755770e-01,\n",
        "         7.53949344e-01,   9.21748817e-01,  -4.24741320e-02,\n",
        "         5.61629772e-01,   4.91839826e-01,   2.85587072e-01,\n",
        "         6.48680925e-01,   7.04001367e-01,  -1.93320699e-02,\n",
        "         6.71472669e-01,   5.40538192e-01,   5.88816941e-01,\n",
        "         7.73667574e-01,   7.74141371e-01,  -3.77491564e-02,\n",
        "         5.24023652e-01,  -2.02730931e-02,  -1.70849562e-02,\n",
        "        -1.99103765e-02,   6.62021756e-01,   4.65835184e-01,\n",
        "        -2.67463829e-02,  -1.98366735e-02,  -2.49054544e-02,\n",
        "         5.10907829e-01,  -1.62777994e-02,  -2.87311804e-02,\n",
        "        -1.74178295e-02,  -2.42642853e-02,  -1.97981037e-02,\n",
        "         6.01405799e-01,  -2.01502051e-02,  -1.47034423e-02,\n",
        "         2.54132211e-01,  -1.61650628e-02,  -2.90785469e-02,\n",
        "         4.13660645e-01,   3.91079813e-01,  -4.20999900e-02,\n",
        "        -2.36372985e-02,  -3.88454534e-02,  -2.72426810e-02,\n",
        "         6.95665598e-01,  -1.07875787e-01,   1.00057483e+00,\n",
        "         8.04865733e-03,   7.15281488e-03,  -8.43766145e-03,\n",
        "         7.26915244e-03,  -3.00741824e-03,  -7.52018858e-03,\n",
        "         4.70733969e-03,  -1.72955580e-02,  -1.32153148e-03,\n",
        "         3.52924550e-03,   2.08454337e-02,  -3.32558091e-04,\n",
        "         1.90786570e-02,  -1.26844952e-02,   3.94622423e-03,\n",
        "        -3.85024259e-03,  -1.21951485e-02,  -2.03337930e-02,\n",
        "         2.73376293e-02,   3.38070584e-03,   6.06906321e-03,\n",
        "        -7.40647447e-05,  -4.47588600e-03,   9.70642269e-03,\n",
        "        -8.42945185e-03,  -3.76700377e-03,  -1.79678074e-03,\n",
        "        -9.17243026e-03,   1.37365730e-02,   1.91276129e-02,\n",
        "        -3.63241881e-03,  -2.12389398e-02,  -5.94921084e-03,\n",
        "         8.55297688e-03,  -6.09513884e-03,   7.43929995e-03,\n",
        "         9.74905677e-04,  -9.98190884e-03,   3.60867009e-03,\n",
        "         7.50483712e-04,   1.67002697e-02,   7.27292430e-03,\n",
        "         1.43754140e-01,  -1.57753881e-02,   2.08743922e-02,\n",
        "         2.12055981e-01,  -2.29693903e-03,   1.40979841e-01,\n",
        "         5.54649346e-02,   1.15098670e-01,   6.32365525e-01,\n",
        "         5.89845836e-01,   2.75168687e-01,  -1.27270604e-02,\n",
        "         2.38147572e-01,  -3.66017483e-02,   1.36750519e-01,\n",
        "        -4.08056304e-02,   7.58528054e-01,   9.96785909e-02,\n",
        "        -3.73136774e-02,  -2.60773413e-02,   3.24263453e-01,\n",
        "         2.89264381e-01,   2.07199886e-01,   1.97208971e-01,\n",
        "         3.59971911e-01,  -2.56323237e-02,   6.10688776e-02,\n",
        "         2.68180549e-01,   1.75925449e-01,  -1.39204990e-02,\n",
        "         4.77483243e-01,   5.46779437e-03,  -9.36682057e-03,\n",
        "         3.00864756e-01,   6.41954616e-02,  -2.86199711e-02,\n",
        "         3.22578475e-02,   9.88152623e-02,   1.02196567e-01,\n",
        "        -1.89771522e-02,   1.77106038e-01,  -9.21930932e-03,\n",
        "        -5.77150583e-02,   1.82270959e-01,  -1.35957524e-02,\n",
        "        -2.89089605e-02,  -2.21555084e-02,  -2.75857411e-02,\n",
        "         3.80470276e-01,   1.64506301e-01,  -1.73525065e-02,\n",
        "         3.20210755e-01,   1.80151835e-01,   9.26088512e-01,\n",
        "         3.88752553e-03,   1.08688939e-02,   2.09790152e-02,\n",
        "         9.59823374e-03,   4.59615979e-03,   1.55307231e-02,\n",
        "         5.10337250e-03,  -3.32438038e-03,  -8.16993881e-03,\n",
        "        -4.80911788e-03,  -2.10660350e-04,  -4.58650570e-03,\n",
        "         5.75106940e-04,   6.73060911e-03,   4.57308721e-03,\n",
        "        -1.10745826e-03,  -5.65432757e-03,   4.45055682e-03,\n",
        "        -4.31114994e-03,  -1.17157516e-03,   6.10321108e-03,\n",
        "         7.25740148e-03,   1.19127212e-02,   1.54198613e-02,\n",
        "         6.19333424e-03,   5.96601143e-03,  -9.47645307e-03,\n",
        "         5.21731330e-03,   9.20767430e-03,   1.57177262e-02,\n",
        "        -7.15131813e-04,  -8.92477762e-03,   1.85395067e-03,\n",
        "         5.59865788e-04,  -1.97884697e-03,   1.10737775e-02,\n",
        "        -1.24300048e-02,   1.12278713e-02,   4.66238987e-03,\n",
        "        -8.32298247e-04,   1.16304941e-02,  -1.44333700e-02,\n",
        "        -8.33915919e-02,  -1.26889087e-02,   1.60314096e-03,\n",
        "         1.49270520e-01,   2.41177641e-02,   7.40745068e-02,\n",
        "         9.00958255e-02,  -4.08675931e-02,   3.70410383e-01,\n",
        "         3.34154934e-01,  -1.56389605e-02,   4.04900312e-02,\n",
        "         6.52545616e-02,   2.93422043e-01,  -4.83367406e-02,\n",
        "         6.72618598e-02,   3.20060462e-01,   1.42934581e-03,\n",
        "         7.38926306e-02,  -1.50324237e-02,   2.80234963e-01,\n",
        "         1.74677521e-01,  -2.14967243e-02,  -2.15783417e-02,\n",
        "         8.74030963e-02,   4.41225320e-02,  -3.17117228e-04,\n",
        "         1.68189541e-01,  -1.42331747e-02,   8.81632674e-04,\n",
        "         1.12026125e-01,   1.76139623e-02,  -2.36386172e-02,\n",
        "        -1.64772384e-02,   8.66944715e-02,   4.13726689e-03,\n",
        "        -1.89168137e-02,  -1.99361630e-02,   2.14368179e-02,\n",
        "        -1.85260158e-02,   9.38636661e-02,  -6.30055554e-04,\n",
        "         8.44348446e-02,   3.49570625e-02,   3.12848240e-02,\n",
        "        -1.88625734e-02,   2.30024114e-01,   1.45516083e-01,\n",
        "         2.19341576e-01,   1.44238085e-01,   2.33308915e-02,\n",
        "        -3.32897529e-02,  -1.32263631e-01,   6.75918102e-01,\n",
        "        -1.10246539e-02,   8.78811162e-03,   6.66244479e-04,\n",
        "         7.24292535e-04,  -1.23528391e-02,  -1.58281829e-02,\n",
        "        -5.97855821e-03,  -8.15707073e-03,  -2.84049683e-03,\n",
        "        -1.99169274e-02,  -7.69431982e-03,  -7.65804108e-03,\n",
        "         5.32840053e-03,   1.06757544e-02,   7.41842249e-03,\n",
        "        -4.79329703e-03,  -1.63526665e-02,  -7.55768456e-03,\n",
        "        -1.18959881e-02,   1.01712774e-02,   1.99312270e-02,\n",
        "         7.49486382e-04,  -1.58620335e-03,  -1.65117644e-02,\n",
        "         1.18378410e-03,  -1.00742169e-02,   4.04528202e-03,\n",
        "        -1.33197503e-02,   4.59323142e-04,   7.19577260e-03,\n",
        "         1.19888205e-02,   1.21541033e-02,  -7.05899030e-04,\n",
        "        -1.23232296e-02,   3.78156151e-03,  -1.61414649e-02,\n",
        "        -1.26285423e-02,  -1.40715409e-02,  -1.77215750e-03,\n",
        "         1.24527486e-02,  -6.40264305e-04,  -7.56389927e-03,\n",
        "        -1.16366185e-01,  -2.93462025e-03,  -3.43317837e-02,\n",
        "        -1.26975223e-01,  -1.85003225e-02,  -4.90184426e-02,\n",
        "         1.36234596e-01,   2.95423090e-01,   3.49737823e-01,\n",
        "         1.77149341e-01,   1.57342315e-01,  -6.06790259e-02,\n",
        "        -4.72597294e-02,   2.27283835e-01,  -1.03017939e-02,\n",
        "         1.02393277e-01,   8.99254382e-02,   7.57260062e-03,\n",
        "        -5.89912124e-02,   3.39736119e-02,   9.58469138e-02,\n",
        "         1.06965221e-01,  -3.50846052e-02,   2.97027566e-02,\n",
        "         4.88856882e-02,  -2.38727760e-02,  -8.89885984e-03,\n",
        "         1.16341978e-01,  -1.43161239e-02,  -1.49740395e-03,\n",
        "         1.35219023e-01,   1.02456003e-01,   3.58139575e-02,\n",
        "         2.59768873e-01,   9.49801952e-02,   4.20345739e-03,\n",
        "         6.45914972e-02,  -3.85954627e-03,   3.53821218e-02,\n",
        "         4.37274650e-02,  -3.80760841e-02,  -1.90453744e-03,\n",
        "         1.93699285e-01,   5.20268977e-02,   6.19367771e-02,\n",
        "         3.50756943e-02,   7.97706619e-02,   2.05152676e-01,\n",
        "         2.40176186e-01,   1.75884306e-01,  -1.45378076e-02,\n",
        "         1.86869681e-01,  -1.63428336e-01,   4.52507257e-01], dtype=float32)"
       ]
      }
     ],
     "prompt_number": 5
    },
    {
     "cell_type": "code",
     "collapsed": false,
     "input": [],
     "language": "python",
     "metadata": {},
     "outputs": []
    }
   ],
   "metadata": {}
  }
 ]
}