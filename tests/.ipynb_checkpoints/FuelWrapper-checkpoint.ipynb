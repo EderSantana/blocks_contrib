{
 "metadata": {
  "name": "",
  "signature": "sha256:e4fabada89914db89c839fc0e9a27b9050b39d115f16279e776997d14ae50897"
 },
 "nbformat": 3,
 "nbformat_minor": 0,
 "worksheets": [
  {
   "cells": [
    {
     "cell_type": "code",
     "collapsed": false,
     "input": [
      "from fuel.datasets import Dataset\n",
      "from librnn.pylearn2.datasets.music import MusicSequence\n",
      "from blocks.bricks import Sigmoid, Tanh, MLP, Linear, Rectifier\n",
      "from blocks.bricks.recurrent import SimpleRecurrent, GatedRecurrent, LSTM\n",
      "from blocks.bricks import recurrent\n",
      "from blocks.initialization import Orthogonal, IsotropicGaussian, Constant\n",
      "from blocks.algorithms import GradientDescent, Scale, Adam\n",
      "from fuel.streams import DataStream\n",
      "from fuel.schemes import ConstantScheme\n",
      "from theano import tensor\n",
      "from blocks.bricks import WEIGHTS, BIASES\n",
      "from blocks.graph import ComputationGraph\n",
      "from blocks.filter import VariableFilter\n",
      "from blocks.main_loop import MainLoop\n",
      "from blocks.model import Model\n",
      "from blocks.extensions import FinishAfter, Printing\n",
      "#from blocks.extensions.saveload import SerializeMainLoop\n",
      "from blocks.extensions.monitoring import TrainingDataMonitoring, DataStreamMonitoring\n",
      "from blocks.bricks.cost import BinaryCrossEntropy\n",
      "from blocks_contrib.bricks.recurrent import DelayLine"
     ],
     "language": "python",
     "metadata": {},
     "outputs": [],
     "prompt_number": 15
    },
    {
     "cell_type": "code",
     "collapsed": false,
     "input": [
      "class MusicFuel(Dataset):\n",
      "    def __init__(self, which_set, which_dataset):\n",
      "        self.pylearn2_dataset = MusicSequence(which_set=which_set, which_dataset=which_dataset)\n",
      "        self.sources = self.pylearn2_dataset.get_data_specs()[-1]\n",
      "    \n",
      "    def open(self):\n",
      "        num_examples = self.pylearn2_dataset.get_num_examples()\n",
      "        return self.pylearn2_dataset.iterator(1, num_examples, mode='sequential',\n",
      "                                   data_specs=self.pylearn2_dataset.get_data_specs(), return_tuple=True)\n",
      "    \n",
      "    def get_data(self,state=None,request=None):\n",
      "        return next(state)"
     ],
     "language": "python",
     "metadata": {},
     "outputs": [],
     "prompt_number": 16
    },
    {
     "cell_type": "code",
     "collapsed": false,
     "input": [
      "import theano \n",
      "\n",
      "mlp = MLP([Rectifier(), Sigmoid()], [96*5, 96])\n",
      "mlp.weights_init = IsotropicGaussian(.01)\n",
      "mlp.biases_init = Constant(.01)\n",
      "\n",
      "x = tensor.tensor3('features')\n",
      "input_to_state = Linear(name='input_to_state', input_dim=96, output_dim=48)\n",
      "x_transform = input_to_state.apply(x)\n",
      "mem_dim = 5\n",
      "#RNN = DelayLine(48, mem_dim)\n",
      "RNN = SimpleRecurrent(activation=Tanh(), dim=48, weights_init=Orthogonal(), name=\"RNN\")\n",
      "h = RNN.apply(x_transform) # h is hidden states in the RNN\n",
      "state_to_output = Linear(name='state_to_output', input_dim=48, output_dim=96)\n",
      "pre_out = state_to_output.apply(h)\n",
      "y_hat = Sigmoid(name='last_layer').apply(pre_out)\n",
      "y_hat.name = 'output_sequence'\n",
      "\n",
      "predict = theano.function(inputs = [x, ], outputs = y_hat)\n",
      "\n",
      "y = tensor.tensor3('targets')\n",
      "#cost = BinaryCrossEntropy().apply(y, y_hat)\n",
      "cost = tensor.nnet.binary_crossentropy(y_hat, y).sum(axis=2).mean()\n",
      "cost.name = 'BCE'\n",
      "\n",
      "state_to_output.weights_init = input_to_state.weights_init = IsotropicGaussian(0.01)\n",
      "#RNN.weights_init = Constant(1.)\n",
      "RNN.weights_init = IsotropicGaussian(.01)\n",
      "RNN.biases_init = state_to_output.biases_init = input_to_state.biases_init = Constant(0)\n",
      "RNN.initialize()\n",
      "state_to_output.initialize()\n",
      "input_to_state.initialize()\n",
      "\n",
      "cg = ComputationGraph(cost)\n",
      "params = VariableFilter(roles=[WEIGHTS, BIASES])(cg.variables)"
     ],
     "language": "python",
     "metadata": {},
     "outputs": [],
     "prompt_number": 17
    },
    {
     "cell_type": "code",
     "collapsed": false,
     "input": [
      "trainset = DataStream(MusicFuel(which_set='train', which_dataset='jsb'))\n",
      "testset = DataStream(MusicFuel(which_set='test', which_dataset='jsb'))\n",
      "validset = DataStream(MusicFuel(which_set='valid', which_dataset='jsb'))\n",
      "batch_size = 1\n",
      "num_epochs = 100\n",
      "cost.name = \"sequence_log_likelihood\"\n",
      "algorithm = GradientDescent(\n",
      "                cost=cost, params=params,\n",
      "                step_rule=Adam(0.001))\n",
      "main_loop = MainLoop(\n",
      "                algorithm=algorithm,\n",
      "                data_stream=trainset,\n",
      "                model=None,\n",
      "                extensions=[FinishAfter(after_n_epochs=num_epochs),\n",
      "                            TrainingDataMonitoring([cost], prefix=\"train\",\n",
      "                                                    after_every_epoch=True),\n",
      "                            DataStreamMonitoring([cost], validset, prefix=\"valid\"),\n",
      "                            DataStreamMonitoring([cost], testset, prefix=\"test\"),\n",
      "                            Printing()])\n",
      "main_loop.run()"
     ],
     "language": "python",
     "metadata": {},
     "outputs": [
      {
       "output_type": "stream",
       "stream": "stdout",
       "text": [
        "\n",
        "-------------------------------------------------------------------------------\n",
        "BEFORE FIRST EPOCH\n",
        "-------------------------------------------------------------------------------\n",
        "Training status:\n",
        "\t epochs_done: 0\n",
        "\t iterations_done: 0\n",
        "Log records from the iteration 0:\n",
        "\t test_sequence_log_likelihood: 66.5422134399\n",
        "\t valid_sequence_log_likelihood: 66.5423049927\n",
        "\n",
        "\n"
       ]
      },
      {
       "output_type": "stream",
       "stream": "stdout",
       "text": [
        "-------------------------------------------------------------------------------\n",
        "AFTER ANOTHER EPOCH\n",
        "-------------------------------------------------------------------------------\n",
        "Training status:\n",
        "\t epochs_done: 1\n",
        "\t iterations_done: 229\n",
        "Log records from the iteration 229:\n",
        "\t test_sequence_log_likelihood: 12.3917503357\n",
        "\t train_sequence_log_likelihood: 23.2203674316\n",
        "\t valid_sequence_log_likelihood: 12.4435710907\n",
        "\n",
        "\n"
       ]
      },
      {
       "output_type": "stream",
       "stream": "stdout",
       "text": [
        "-------------------------------------------------------------------------------\n",
        "AFTER ANOTHER EPOCH\n",
        "-------------------------------------------------------------------------------\n",
        "Training status:\n",
        "\t epochs_done: 2\n",
        "\t iterations_done: 458\n",
        "Log records from the iteration 458:\n",
        "\t test_sequence_log_likelihood: 11.5960769653\n",
        "\t train_sequence_log_likelihood: 11.7109384537\n",
        "\t valid_sequence_log_likelihood: 11.6284751892\n",
        "\n",
        "\n"
       ]
      },
      {
       "output_type": "stream",
       "stream": "stdout",
       "text": [
        "-------------------------------------------------------------------------------\n",
        "AFTER ANOTHER EPOCH\n",
        "-------------------------------------------------------------------------------\n",
        "Training status:\n",
        "\t epochs_done: 3\n",
        "\t iterations_done: 687\n",
        "Log records from the iteration 687:\n",
        "\t test_sequence_log_likelihood: 11.447063446\n",
        "\t train_sequence_log_likelihood: 11.3389539719\n",
        "\t valid_sequence_log_likelihood: 11.4748182297\n",
        "\n",
        "\n"
       ]
      },
      {
       "output_type": "stream",
       "stream": "stdout",
       "text": [
        "-------------------------------------------------------------------------------\n",
        "AFTER ANOTHER EPOCH\n",
        "-------------------------------------------------------------------------------\n",
        "Training status:\n",
        "\t epochs_done: 4\n",
        "\t iterations_done: 916\n",
        "Log records from the iteration 916:\n",
        "\t test_sequence_log_likelihood: 11.3869514465\n",
        "\t train_sequence_log_likelihood: 11.2365179062\n",
        "\t valid_sequence_log_likelihood: 11.412899971\n",
        "\n",
        "\n"
       ]
      },
      {
       "output_type": "stream",
       "stream": "stdout",
       "text": [
        "-------------------------------------------------------------------------------\n",
        "AFTER ANOTHER EPOCH\n",
        "-------------------------------------------------------------------------------\n",
        "Training status:\n",
        "\t epochs_done: 5\n",
        "\t iterations_done: 1145\n",
        "Log records from the iteration 1145:\n",
        "\t test_sequence_log_likelihood: 11.3467588425\n",
        "\t train_sequence_log_likelihood: 11.1844978333\n",
        "\t valid_sequence_log_likelihood: 11.3712720871\n",
        "\n",
        "\n"
       ]
      },
      {
       "output_type": "stream",
       "stream": "stdout",
       "text": [
        "-------------------------------------------------------------------------------\n",
        "AFTER ANOTHER EPOCH\n",
        "-------------------------------------------------------------------------------\n",
        "Training status:\n",
        "\t epochs_done: 6\n",
        "\t iterations_done: 1374\n",
        "Log records from the iteration 1374:\n",
        "\t test_sequence_log_likelihood: 11.3005485535\n",
        "\t train_sequence_log_likelihood: 11.1413288116\n",
        "\t valid_sequence_log_likelihood: 11.3233232498\n",
        "\n",
        "\n"
       ]
      },
      {
       "output_type": "stream",
       "stream": "stdout",
       "text": [
        "-------------------------------------------------------------------------------\n",
        "AFTER ANOTHER EPOCH\n",
        "-------------------------------------------------------------------------------\n",
        "Training status:\n",
        "\t epochs_done: 7\n",
        "\t iterations_done: 1603\n",
        "Log records from the iteration 1603:\n",
        "\t test_sequence_log_likelihood: 11.2215738297\n",
        "\t train_sequence_log_likelihood: 11.0832176208\n",
        "\t valid_sequence_log_likelihood: 11.2416753769\n",
        "\n",
        "\n"
       ]
      },
      {
       "output_type": "stream",
       "stream": "stdout",
       "text": [
        "-------------------------------------------------------------------------------\n",
        "AFTER ANOTHER EPOCH\n",
        "-------------------------------------------------------------------------------\n",
        "Training status:\n",
        "\t epochs_done: 8\n",
        "\t iterations_done: 1832\n",
        "Log records from the iteration 1832:\n",
        "\t test_sequence_log_likelihood: 11.0788593292\n",
        "\t train_sequence_log_likelihood: 10.982421875\n",
        "\t valid_sequence_log_likelihood: 11.0948495865\n",
        "\n",
        "\n"
       ]
      },
      {
       "output_type": "stream",
       "stream": "stdout",
       "text": [
        "-------------------------------------------------------------------------------\n",
        "AFTER ANOTHER EPOCH\n",
        "-------------------------------------------------------------------------------\n",
        "Training status:\n",
        "\t epochs_done: 9\n",
        "\t iterations_done: 2061\n",
        "Log records from the iteration 2061:\n",
        "\t test_sequence_log_likelihood: 10.8791627884\n",
        "\t train_sequence_log_likelihood: 10.8212652206\n",
        "\t valid_sequence_log_likelihood: 10.8903532028\n",
        "\n",
        "\n"
       ]
      },
      {
       "output_type": "stream",
       "stream": "stdout",
       "text": [
        "-------------------------------------------------------------------------------\n",
        "AFTER ANOTHER EPOCH\n",
        "-------------------------------------------------------------------------------\n",
        "Training status:\n",
        "\t epochs_done: 10\n",
        "\t iterations_done: 2290\n",
        "Log records from the iteration 2290:\n",
        "\t test_sequence_log_likelihood: 10.670340538\n",
        "\t train_sequence_log_likelihood: 10.6209602356\n",
        "\t valid_sequence_log_likelihood: 10.6766967773\n",
        "\n",
        "\n"
       ]
      },
      {
       "output_type": "stream",
       "stream": "stdout",
       "text": [
        "-------------------------------------------------------------------------------\n",
        "AFTER ANOTHER EPOCH\n",
        "-------------------------------------------------------------------------------\n",
        "Training status:\n",
        "\t epochs_done: 11\n",
        "\t iterations_done: 2519\n",
        "Log records from the iteration 2519:\n",
        "\t test_sequence_log_likelihood: 10.4783372879\n",
        "\t train_sequence_log_likelihood: 10.4139738083\n",
        "\t valid_sequence_log_likelihood: 10.4813518524\n",
        "\n",
        "\n"
       ]
      },
      {
       "output_type": "stream",
       "stream": "stdout",
       "text": [
        "-------------------------------------------------------------------------------\n",
        "AFTER ANOTHER EPOCH\n",
        "-------------------------------------------------------------------------------\n",
        "Training status:\n",
        "\t epochs_done: 12\n",
        "\t iterations_done: 2748\n",
        "Log records from the iteration 2748:\n",
        "\t test_sequence_log_likelihood: 10.3120241165\n",
        "\t train_sequence_log_likelihood: 10.2251596451\n",
        "\t valid_sequence_log_likelihood: 10.3148918152\n",
        "\n",
        "\n"
       ]
      },
      {
       "output_type": "stream",
       "stream": "stdout",
       "text": [
        "-------------------------------------------------------------------------------\n",
        "AFTER ANOTHER EPOCH\n",
        "-------------------------------------------------------------------------------\n",
        "Training status:\n",
        "\t epochs_done: 13\n",
        "\t iterations_done: 2977\n",
        "Log records from the iteration 2977:\n",
        "\t test_sequence_log_likelihood: 10.1671113968\n",
        "\t train_sequence_log_likelihood: 10.0634279251\n",
        "\t valid_sequence_log_likelihood: 10.1706151962\n",
        "\n",
        "\n"
       ]
      },
      {
       "output_type": "stream",
       "stream": "stdout",
       "text": [
        "-------------------------------------------------------------------------------\n",
        "AFTER ANOTHER EPOCH\n",
        "-------------------------------------------------------------------------------\n",
        "Training status:\n",
        "\t epochs_done: 14\n",
        "\t iterations_done: 3206\n",
        "Log records from the iteration 3206:\n",
        "\t test_sequence_log_likelihood: 10.0409088135\n",
        "\t train_sequence_log_likelihood: 9.92346858978\n",
        "\t valid_sequence_log_likelihood: 10.0427932739\n",
        "\n",
        "\n"
       ]
      },
      {
       "output_type": "stream",
       "stream": "stdout",
       "text": [
        "-------------------------------------------------------------------------------\n",
        "AFTER ANOTHER EPOCH\n",
        "-------------------------------------------------------------------------------\n",
        "Training status:\n",
        "\t epochs_done: 15\n",
        "\t iterations_done: 3435\n",
        "Log records from the iteration 3435:\n",
        "\t test_sequence_log_likelihood: 9.93277740479\n",
        "\t train_sequence_log_likelihood: 9.80157852173\n",
        "\t valid_sequence_log_likelihood: 9.93099880219\n",
        "\n",
        "\n"
       ]
      },
      {
       "output_type": "stream",
       "stream": "stdout",
       "text": [
        "-------------------------------------------------------------------------------\n",
        "AFTER ANOTHER EPOCH\n",
        "-------------------------------------------------------------------------------\n",
        "Training status:\n",
        "\t epochs_done: 16\n",
        "\t iterations_done: 3664\n",
        "Log records from the iteration 3664:\n",
        "\t test_sequence_log_likelihood: 9.83869552612\n",
        "\t train_sequence_log_likelihood: 9.69463062286\n",
        "\t valid_sequence_log_likelihood: 9.83348846436\n",
        "\n",
        "\n"
       ]
      },
      {
       "output_type": "stream",
       "stream": "stdout",
       "text": [
        "-------------------------------------------------------------------------------\n",
        "AFTER ANOTHER EPOCH\n",
        "-------------------------------------------------------------------------------\n",
        "Training status:\n",
        "\t epochs_done: 17\n",
        "\t iterations_done: 3893\n",
        "Log records from the iteration 3893:\n",
        "\t test_sequence_log_likelihood: 9.75417423248\n",
        "\t train_sequence_log_likelihood: 9.59885883331\n",
        "\t valid_sequence_log_likelihood: 9.7477273941\n",
        "\n",
        "\n"
       ]
      },
      {
       "output_type": "stream",
       "stream": "stdout",
       "text": [
        "-------------------------------------------------------------------------------\n",
        "AFTER ANOTHER EPOCH\n",
        "-------------------------------------------------------------------------------\n",
        "Training status:\n",
        "\t epochs_done: 18\n",
        "\t iterations_done: 4122\n",
        "Log records from the iteration 4122:\n",
        "\t test_sequence_log_likelihood: 9.67738342285\n",
        "\t train_sequence_log_likelihood: 9.51193523407\n",
        "\t valid_sequence_log_likelihood: 9.67248535156\n",
        "\n",
        "\n"
       ]
      },
      {
       "output_type": "stream",
       "stream": "stdout",
       "text": [
        "-------------------------------------------------------------------------------\n",
        "AFTER ANOTHER EPOCH\n",
        "-------------------------------------------------------------------------------\n",
        "Training status:\n",
        "\t epochs_done: 19\n",
        "\t iterations_done: 4351\n",
        "Log records from the iteration 4351:\n",
        "\t test_sequence_log_likelihood: 9.60901927948\n",
        "\t train_sequence_log_likelihood: 9.43361759186\n",
        "\t valid_sequence_log_likelihood: 9.60782718658\n",
        "\n",
        "\n"
       ]
      },
      {
       "output_type": "stream",
       "stream": "stdout",
       "text": [
        "-------------------------------------------------------------------------------\n",
        "AFTER ANOTHER EPOCH\n",
        "-------------------------------------------------------------------------------\n",
        "Training status:\n",
        "\t epochs_done: 20\n",
        "\t iterations_done: 4580\n",
        "Log records from the iteration 4580:\n",
        "\t test_sequence_log_likelihood: 9.55015182495\n",
        "\t train_sequence_log_likelihood: 9.36464691162\n",
        "\t valid_sequence_log_likelihood: 9.55357170105\n",
        "\n",
        "\n"
       ]
      },
      {
       "output_type": "stream",
       "stream": "stdout",
       "text": [
        "-------------------------------------------------------------------------------\n",
        "AFTER ANOTHER EPOCH\n",
        "-------------------------------------------------------------------------------\n",
        "Training status:\n",
        "\t epochs_done: 21\n",
        "\t iterations_done: 4809\n",
        "Log records from the iteration 4809:\n",
        "\t test_sequence_log_likelihood: 9.50051689148\n",
        "\t train_sequence_log_likelihood: 9.30515480042\n",
        "\t valid_sequence_log_likelihood: 9.50822639465\n",
        "\n",
        "\n"
       ]
      },
      {
       "output_type": "stream",
       "stream": "stdout",
       "text": [
        "-------------------------------------------------------------------------------\n",
        "AFTER ANOTHER EPOCH\n",
        "-------------------------------------------------------------------------------\n",
        "Training status:\n",
        "\t epochs_done: 22\n",
        "\t iterations_done: 5038\n",
        "Log records from the iteration 5038:\n",
        "\t test_sequence_log_likelihood: 9.45862770081\n",
        "\t train_sequence_log_likelihood: 9.2540473938\n",
        "\t valid_sequence_log_likelihood: 9.46950721741\n",
        "\n",
        "\n"
       ]
      },
      {
       "output_type": "stream",
       "stream": "stdout",
       "text": [
        "-------------------------------------------------------------------------------\n",
        "AFTER ANOTHER EPOCH\n",
        "-------------------------------------------------------------------------------\n",
        "Training status:\n",
        "\t epochs_done: 23\n",
        "\t iterations_done: 5267\n",
        "Log records from the iteration 5267:\n",
        "\t test_sequence_log_likelihood: 9.42270278931\n",
        "\t train_sequence_log_likelihood: 9.20960998535\n",
        "\t valid_sequence_log_likelihood: 9.43540668488\n",
        "\n",
        "\n"
       ]
      },
      {
       "output_type": "stream",
       "stream": "stdout",
       "text": [
        "-------------------------------------------------------------------------------\n",
        "AFTER ANOTHER EPOCH\n",
        "-------------------------------------------------------------------------------\n",
        "Training status:\n",
        "\t epochs_done: 24\n",
        "\t iterations_done: 5496\n",
        "Log records from the iteration 5496:\n",
        "\t test_sequence_log_likelihood: 9.39130592346\n",
        "\t train_sequence_log_likelihood: 9.17027378082\n",
        "\t valid_sequence_log_likelihood: 9.4046087265\n",
        "\n",
        "\n"
       ]
      },
      {
       "output_type": "stream",
       "stream": "stdout",
       "text": [
        "-------------------------------------------------------------------------------\n",
        "AFTER ANOTHER EPOCH\n",
        "-------------------------------------------------------------------------------\n",
        "Training status:\n",
        "\t epochs_done: 25\n",
        "\t iterations_done: 5725\n",
        "Log records from the iteration 5725:\n",
        "\t test_sequence_log_likelihood: 9.36340999603\n",
        "\t train_sequence_log_likelihood: 9.13487625122\n",
        "\t valid_sequence_log_likelihood: 9.37641429901\n",
        "\n",
        "\n"
       ]
      },
      {
       "output_type": "stream",
       "stream": "stdout",
       "text": [
        "-------------------------------------------------------------------------------\n",
        "AFTER ANOTHER EPOCH\n",
        "-------------------------------------------------------------------------------\n",
        "Training status:\n",
        "\t epochs_done: 26\n",
        "\t iterations_done: 5954\n",
        "Log records from the iteration 5954:\n",
        "\t test_sequence_log_likelihood: 9.33829975128\n",
        "\t train_sequence_log_likelihood: 9.10264778137\n",
        "\t valid_sequence_log_likelihood: 9.350440979\n",
        "\n",
        "\n"
       ]
      },
      {
       "output_type": "stream",
       "stream": "stdout",
       "text": [
        "-------------------------------------------------------------------------------\n",
        "AFTER ANOTHER EPOCH\n",
        "-------------------------------------------------------------------------------\n",
        "Training status:\n",
        "\t epochs_done: 27\n",
        "\t iterations_done: 6183\n",
        "Log records from the iteration 6183:\n",
        "\t test_sequence_log_likelihood: 9.31543636322\n",
        "\t train_sequence_log_likelihood: 9.0730381012\n",
        "\t valid_sequence_log_likelihood: 9.32640552521\n",
        "\n",
        "\n"
       ]
      },
      {
       "output_type": "stream",
       "stream": "stdout",
       "text": [
        "-------------------------------------------------------------------------------\n",
        "AFTER ANOTHER EPOCH\n",
        "-------------------------------------------------------------------------------\n",
        "Training status:\n",
        "\t epochs_done: 28\n",
        "\t iterations_done: 6412\n",
        "Log records from the iteration 6412:\n",
        "\t test_sequence_log_likelihood: 9.29437923431\n",
        "\t train_sequence_log_likelihood: 9.04561710358\n",
        "\t valid_sequence_log_likelihood: 9.30404567719\n",
        "\n",
        "\n"
       ]
      },
      {
       "output_type": "stream",
       "stream": "stdout",
       "text": [
        "-------------------------------------------------------------------------------\n",
        "AFTER ANOTHER EPOCH\n",
        "-------------------------------------------------------------------------------\n",
        "Training status:\n",
        "\t epochs_done: 29\n",
        "\t iterations_done: 6641\n",
        "Log records from the iteration 6641:\n",
        "\t test_sequence_log_likelihood: 9.27476215363\n",
        "\t train_sequence_log_likelihood: 9.01999855042\n",
        "\t valid_sequence_log_likelihood: 9.28309345245\n",
        "\n",
        "\n"
       ]
      },
      {
       "output_type": "stream",
       "stream": "stdout",
       "text": [
        "-------------------------------------------------------------------------------\n",
        "AFTER ANOTHER EPOCH\n",
        "-------------------------------------------------------------------------------\n",
        "Training status:\n",
        "\t epochs_done: 30\n",
        "\t iterations_done: 6870\n",
        "Log records from the iteration 6870:\n",
        "\t test_sequence_log_likelihood: 9.25632667542\n",
        "\t train_sequence_log_likelihood: 8.99587059021\n",
        "\t valid_sequence_log_likelihood: 9.26334095001\n",
        "\n",
        "\n"
       ]
      },
      {
       "output_type": "stream",
       "stream": "stdout",
       "text": [
        "-------------------------------------------------------------------------------\n",
        "AFTER ANOTHER EPOCH\n",
        "-------------------------------------------------------------------------------\n",
        "Training status:\n",
        "\t epochs_done: 31\n",
        "\t iterations_done: 7099\n",
        "Log records from the iteration 7099:\n",
        "\t test_sequence_log_likelihood: 9.23888397217\n",
        "\t train_sequence_log_likelihood: 8.97299480438\n",
        "\t valid_sequence_log_likelihood: 9.24462604523\n",
        "\n",
        "\n"
       ]
      },
      {
       "output_type": "stream",
       "stream": "stdout",
       "text": [
        "-------------------------------------------------------------------------------\n",
        "AFTER ANOTHER EPOCH\n",
        "-------------------------------------------------------------------------------\n",
        "Training status:\n",
        "\t epochs_done: 32\n",
        "\t iterations_done: 7328\n",
        "Log records from the iteration 7328:\n",
        "\t test_sequence_log_likelihood: 9.2223033905\n",
        "\t train_sequence_log_likelihood: 8.95119667053\n",
        "\t valid_sequence_log_likelihood: 9.22683048248\n",
        "\n",
        "\n"
       ]
      },
      {
       "output_type": "stream",
       "stream": "stdout",
       "text": [
        "-------------------------------------------------------------------------------\n",
        "AFTER ANOTHER EPOCH\n",
        "-------------------------------------------------------------------------------\n",
        "Training status:\n",
        "\t epochs_done: 33\n",
        "\t iterations_done: 7557\n",
        "Log records from the iteration 7557:\n",
        "\t test_sequence_log_likelihood: 9.20650863647\n",
        "\t train_sequence_log_likelihood: 8.9303483963\n",
        "\t valid_sequence_log_likelihood: 9.20986175537\n",
        "\n",
        "\n"
       ]
      },
      {
       "output_type": "stream",
       "stream": "stdout",
       "text": [
        "-------------------------------------------------------------------------------\n",
        "AFTER ANOTHER EPOCH\n",
        "-------------------------------------------------------------------------------\n",
        "Training status:\n",
        "\t epochs_done: 34\n",
        "\t iterations_done: 7786\n",
        "Log records from the iteration 7786:\n",
        "\t test_sequence_log_likelihood: 9.19141864777\n",
        "\t train_sequence_log_likelihood: 8.91035366058\n",
        "\t valid_sequence_log_likelihood: 9.19363880157\n",
        "\n",
        "\n"
       ]
      },
      {
       "output_type": "stream",
       "stream": "stdout",
       "text": [
        "-------------------------------------------------------------------------------\n",
        "AFTER ANOTHER EPOCH\n",
        "-------------------------------------------------------------------------------\n",
        "Training status:\n",
        "\t epochs_done: 35\n",
        "\t iterations_done: 8015\n",
        "Log records from the iteration 8015:\n",
        "\t test_sequence_log_likelihood: 9.17697525024\n",
        "\t train_sequence_log_likelihood: 8.89113330841\n",
        "\t valid_sequence_log_likelihood: 9.1780834198\n",
        "\n",
        "\n"
       ]
      },
      {
       "output_type": "stream",
       "stream": "stdout",
       "text": [
        "-------------------------------------------------------------------------------\n",
        "AFTER ANOTHER EPOCH\n",
        "-------------------------------------------------------------------------------\n",
        "Training status:\n",
        "\t epochs_done: 36\n",
        "\t iterations_done: 8244\n",
        "Log records from the iteration 8244:\n",
        "\t test_sequence_log_likelihood: 9.1631269455\n",
        "\t train_sequence_log_likelihood: 8.87262821198\n",
        "\t valid_sequence_log_likelihood: 9.16313838959\n",
        "\n",
        "\n"
       ]
      },
      {
       "output_type": "stream",
       "stream": "stdout",
       "text": [
        "-------------------------------------------------------------------------------\n",
        "AFTER ANOTHER EPOCH\n",
        "-------------------------------------------------------------------------------\n",
        "Training status:\n",
        "\t epochs_done: 37\n",
        "\t iterations_done: 8473\n",
        "Log records from the iteration 8473:\n",
        "\t test_sequence_log_likelihood: 9.14982414246\n",
        "\t train_sequence_log_likelihood: 8.85477352142\n",
        "\t valid_sequence_log_likelihood: 9.14874076843\n",
        "\n",
        "\n"
       ]
      },
      {
       "output_type": "stream",
       "stream": "stdout",
       "text": [
        "-------------------------------------------------------------------------------\n",
        "AFTER ANOTHER EPOCH\n",
        "-------------------------------------------------------------------------------\n",
        "Training status:\n",
        "\t epochs_done: 38\n",
        "\t iterations_done: 8702\n",
        "Log records from the iteration 8702:\n",
        "\t test_sequence_log_likelihood: 9.13701438904\n",
        "\t train_sequence_log_likelihood: 8.83753108978\n",
        "\t valid_sequence_log_likelihood: 9.13484382629\n",
        "\n",
        "\n"
       ]
      },
      {
       "output_type": "stream",
       "stream": "stdout",
       "text": [
        "-------------------------------------------------------------------------------\n",
        "AFTER ANOTHER EPOCH\n",
        "-------------------------------------------------------------------------------\n",
        "Training status:\n",
        "\t epochs_done: 39\n",
        "\t iterations_done: 8931\n",
        "Log records from the iteration 8931:\n",
        "\t test_sequence_log_likelihood: 9.12466526031\n",
        "\t train_sequence_log_likelihood: 8.82086467743\n",
        "\t valid_sequence_log_likelihood: 9.12140274048\n",
        "\n",
        "\n"
       ]
      },
      {
       "output_type": "stream",
       "stream": "stdout",
       "text": [
        "-------------------------------------------------------------------------------\n",
        "AFTER ANOTHER EPOCH\n",
        "-------------------------------------------------------------------------------\n",
        "Training status:\n",
        "\t epochs_done: 40\n",
        "\t iterations_done: 9160\n",
        "Log records from the iteration 9160:\n",
        "\t test_sequence_log_likelihood: 9.11274242401\n",
        "\t train_sequence_log_likelihood: 8.80473423004\n",
        "\t valid_sequence_log_likelihood: 9.10838985443\n",
        "\n",
        "\n"
       ]
      },
      {
       "output_type": "stream",
       "stream": "stdout",
       "text": [
        "-------------------------------------------------------------------------------\n",
        "AFTER ANOTHER EPOCH\n",
        "-------------------------------------------------------------------------------\n",
        "Training status:\n",
        "\t epochs_done: 41\n",
        "\t iterations_done: 9389\n",
        "Log records from the iteration 9389:\n",
        "\t test_sequence_log_likelihood: 9.1012096405\n",
        "\t train_sequence_log_likelihood: 8.789103508\n",
        "\t valid_sequence_log_likelihood: 9.09575653076\n",
        "\n",
        "\n"
       ]
      },
      {
       "output_type": "stream",
       "stream": "stdout",
       "text": [
        "-------------------------------------------------------------------------------\n",
        "AFTER ANOTHER EPOCH\n",
        "-------------------------------------------------------------------------------\n",
        "Training status:\n",
        "\t epochs_done: 42\n",
        "\t iterations_done: 9618\n",
        "Log records from the iteration 9618:\n",
        "\t test_sequence_log_likelihood: 9.09004116058\n",
        "\t train_sequence_log_likelihood: 8.77394294739\n",
        "\t valid_sequence_log_likelihood: 9.0834941864\n",
        "\n",
        "\n"
       ]
      },
      {
       "output_type": "stream",
       "stream": "stdout",
       "text": [
        "-------------------------------------------------------------------------------\n",
        "AFTER ANOTHER EPOCH\n",
        "-------------------------------------------------------------------------------\n",
        "Training status:\n",
        "\t epochs_done: 43\n",
        "\t iterations_done: 9847\n",
        "Log records from the iteration 9847:\n",
        "\t test_sequence_log_likelihood: 9.07921504974\n",
        "\t train_sequence_log_likelihood: 8.75922584534\n",
        "\t valid_sequence_log_likelihood: 9.07157325745\n",
        "\n",
        "\n"
       ]
      },
      {
       "output_type": "stream",
       "stream": "stdout",
       "text": [
        "-------------------------------------------------------------------------------\n",
        "AFTER ANOTHER EPOCH\n",
        "-------------------------------------------------------------------------------\n",
        "Training status:\n",
        "\t epochs_done: 44\n",
        "\t iterations_done: 10076\n",
        "Log records from the iteration 10076:\n",
        "\t test_sequence_log_likelihood: 9.06871414185\n",
        "\t train_sequence_log_likelihood: 8.74491786957\n",
        "\t valid_sequence_log_likelihood: 9.05997562408\n",
        "\n",
        "\n"
       ]
      },
      {
       "output_type": "stream",
       "stream": "stdout",
       "text": [
        "-------------------------------------------------------------------------------\n",
        "AFTER ANOTHER EPOCH\n",
        "-------------------------------------------------------------------------------\n",
        "Training status:\n",
        "\t epochs_done: 45\n",
        "\t iterations_done: 10305\n",
        "Log records from the iteration 10305:\n",
        "\t test_sequence_log_likelihood: 9.0585308075\n",
        "\t train_sequence_log_likelihood: 8.73100757599\n",
        "\t valid_sequence_log_likelihood: 9.04868602753\n",
        "\n",
        "\n"
       ]
      },
      {
       "output_type": "stream",
       "stream": "stdout",
       "text": [
        "-------------------------------------------------------------------------------\n",
        "AFTER ANOTHER EPOCH\n",
        "-------------------------------------------------------------------------------\n",
        "Training status:\n",
        "\t epochs_done: 46\n",
        "\t iterations_done: 10534\n",
        "Log records from the iteration 10534:\n",
        "\t test_sequence_log_likelihood: 9.04865550995\n",
        "\t train_sequence_log_likelihood: 8.71745967865\n",
        "\t valid_sequence_log_likelihood: 9.0376996994\n",
        "\n",
        "\n"
       ]
      },
      {
       "output_type": "stream",
       "stream": "stdout",
       "text": [
        "-------------------------------------------------------------------------------\n",
        "AFTER ANOTHER EPOCH\n",
        "-------------------------------------------------------------------------------\n",
        "Training status:\n",
        "\t epochs_done: 47\n",
        "\t iterations_done: 10763\n",
        "Log records from the iteration 10763:\n",
        "\t test_sequence_log_likelihood: 9.03908824921\n",
        "\t train_sequence_log_likelihood: 8.70427322388\n",
        "\t valid_sequence_log_likelihood: 9.02700519562\n",
        "\n",
        "\n"
       ]
      },
      {
       "output_type": "stream",
       "stream": "stdout",
       "text": [
        "-------------------------------------------------------------------------------\n",
        "AFTER ANOTHER EPOCH\n",
        "-------------------------------------------------------------------------------\n",
        "Training status:\n",
        "\t epochs_done: 48\n",
        "\t iterations_done: 10992\n",
        "Log records from the iteration 10992:\n",
        "\t test_sequence_log_likelihood: 9.02982711792\n",
        "\t train_sequence_log_likelihood: 8.69142436981\n",
        "\t valid_sequence_log_likelihood: 9.01660442352\n",
        "\n",
        "\n"
       ]
      },
      {
       "output_type": "stream",
       "stream": "stdout",
       "text": [
        "-------------------------------------------------------------------------------\n",
        "AFTER ANOTHER EPOCH\n",
        "-------------------------------------------------------------------------------\n",
        "Training status:\n",
        "\t epochs_done: 49\n",
        "\t iterations_done: 11221\n",
        "Log records from the iteration 11221:\n",
        "\t test_sequence_log_likelihood: 9.02087402344\n",
        "\t train_sequence_log_likelihood: 8.67891120911\n",
        "\t valid_sequence_log_likelihood: 9.00649929047\n",
        "\n",
        "\n"
       ]
      },
      {
       "output_type": "stream",
       "stream": "stdout",
       "text": [
        "-------------------------------------------------------------------------------\n",
        "AFTER ANOTHER EPOCH\n",
        "-------------------------------------------------------------------------------\n",
        "Training status:\n",
        "\t epochs_done: 50\n",
        "\t iterations_done: 11450\n",
        "Log records from the iteration 11450:\n",
        "\t test_sequence_log_likelihood: 9.01223373413\n",
        "\t train_sequence_log_likelihood: 8.66671562195\n",
        "\t valid_sequence_log_likelihood: 8.99668884277\n",
        "\n",
        "\n"
       ]
      },
      {
       "output_type": "stream",
       "stream": "stdout",
       "text": [
        "-------------------------------------------------------------------------------\n",
        "AFTER ANOTHER EPOCH\n",
        "-------------------------------------------------------------------------------\n",
        "Training status:\n",
        "\t epochs_done: 51\n",
        "\t iterations_done: 11679\n",
        "Log records from the iteration 11679:\n",
        "\t test_sequence_log_likelihood: 9.00390815735\n",
        "\t train_sequence_log_likelihood: 8.65484523773\n",
        "\t valid_sequence_log_likelihood: 8.98717689514\n",
        "\n",
        "\n"
       ]
      },
      {
       "output_type": "stream",
       "stream": "stdout",
       "text": [
        "-------------------------------------------------------------------------------\n",
        "AFTER ANOTHER EPOCH\n",
        "-------------------------------------------------------------------------------\n",
        "Training status:\n",
        "\t epochs_done: 52\n",
        "\t iterations_done: 11908\n",
        "Log records from the iteration 11908:\n",
        "\t test_sequence_log_likelihood: 8.99589824677\n",
        "\t train_sequence_log_likelihood: 8.64328289032\n",
        "\t valid_sequence_log_likelihood: 8.97796821594\n",
        "\n",
        "\n"
       ]
      },
      {
       "output_type": "stream",
       "stream": "stdout",
       "text": [
        "-------------------------------------------------------------------------------\n",
        "AFTER ANOTHER EPOCH\n",
        "-------------------------------------------------------------------------------\n",
        "Training status:\n",
        "\t epochs_done: 53\n",
        "\t iterations_done: 12137\n",
        "Log records from the iteration 12137:\n",
        "\t test_sequence_log_likelihood: 8.98820114136\n",
        "\t train_sequence_log_likelihood: 8.63203239441\n",
        "\t valid_sequence_log_likelihood: 8.96905899048\n",
        "\n",
        "\n"
       ]
      },
      {
       "output_type": "stream",
       "stream": "stdout",
       "text": [
        "-------------------------------------------------------------------------------\n",
        "AFTER ANOTHER EPOCH\n",
        "-------------------------------------------------------------------------------\n",
        "Training status:\n",
        "\t epochs_done: 54\n",
        "\t iterations_done: 12366\n",
        "Log records from the iteration 12366:\n",
        "\t test_sequence_log_likelihood: 8.98081302643\n",
        "\t train_sequence_log_likelihood: 8.62107849121\n",
        "\t valid_sequence_log_likelihood: 8.96045207977\n",
        "\n",
        "\n"
       ]
      },
      {
       "output_type": "stream",
       "stream": "stdout",
       "text": [
        "-------------------------------------------------------------------------------\n",
        "AFTER ANOTHER EPOCH\n",
        "-------------------------------------------------------------------------------\n",
        "Training status:\n",
        "\t epochs_done: 55\n",
        "\t iterations_done: 12595\n",
        "Log records from the iteration 12595:\n",
        "\t test_sequence_log_likelihood: 8.97372531891\n",
        "\t train_sequence_log_likelihood: 8.61042404175\n",
        "\t valid_sequence_log_likelihood: 8.95214176178\n",
        "\n",
        "\n"
       ]
      },
      {
       "output_type": "stream",
       "stream": "stdout",
       "text": [
        "-------------------------------------------------------------------------------\n",
        "AFTER ANOTHER EPOCH\n",
        "-------------------------------------------------------------------------------\n",
        "Training status:\n",
        "\t epochs_done: 56\n",
        "\t iterations_done: 12824\n",
        "Log records from the iteration 12824:\n",
        "\t test_sequence_log_likelihood: 8.96693706512\n",
        "\t train_sequence_log_likelihood: 8.60005092621\n",
        "\t valid_sequence_log_likelihood: 8.94412994385\n",
        "\n",
        "\n"
       ]
      },
      {
       "output_type": "stream",
       "stream": "stdout",
       "text": [
        "-------------------------------------------------------------------------------\n",
        "AFTER ANOTHER EPOCH\n",
        "-------------------------------------------------------------------------------\n",
        "Training status:\n",
        "\t epochs_done: 57\n",
        "\t iterations_done: 13053\n",
        "Log records from the iteration 13053:\n",
        "\t test_sequence_log_likelihood: 8.96043300629\n",
        "\t train_sequence_log_likelihood: 8.58996295929\n",
        "\t valid_sequence_log_likelihood: 8.93640422821\n",
        "\n",
        "\n"
       ]
      },
      {
       "output_type": "stream",
       "stream": "stdout",
       "text": [
        "-------------------------------------------------------------------------------\n",
        "AFTER ANOTHER EPOCH\n",
        "-------------------------------------------------------------------------------\n",
        "Training status:\n",
        "\t epochs_done: 58\n",
        "\t iterations_done: 13282\n",
        "Log records from the iteration 13282:\n",
        "\t test_sequence_log_likelihood: 8.95420837402\n",
        "\t train_sequence_log_likelihood: 8.5801410675\n",
        "\t valid_sequence_log_likelihood: 8.92896270752\n",
        "\n",
        "\n"
       ]
      },
      {
       "output_type": "stream",
       "stream": "stdout",
       "text": [
        "-------------------------------------------------------------------------------\n",
        "AFTER ANOTHER EPOCH\n",
        "-------------------------------------------------------------------------------\n",
        "Training status:\n",
        "\t epochs_done: 59\n",
        "\t iterations_done: 13511\n",
        "Log records from the iteration 13511:\n",
        "\t test_sequence_log_likelihood: 8.94824981689\n",
        "\t train_sequence_log_likelihood: 8.57059192657\n",
        "\t valid_sequence_log_likelihood: 8.92179679871\n",
        "\n",
        "\n"
       ]
      },
      {
       "output_type": "stream",
       "stream": "stdout",
       "text": [
        "-------------------------------------------------------------------------------\n",
        "AFTER ANOTHER EPOCH\n",
        "-------------------------------------------------------------------------------\n",
        "Training status:\n",
        "\t epochs_done: 60\n",
        "\t iterations_done: 13740\n",
        "Log records from the iteration 13740:\n",
        "\t test_sequence_log_likelihood: 8.94254970551\n",
        "\t train_sequence_log_likelihood: 8.56129646301\n",
        "\t valid_sequence_log_likelihood: 8.91489887238\n",
        "\n",
        "\n"
       ]
      },
      {
       "output_type": "stream",
       "stream": "stdout",
       "text": [
        "-------------------------------------------------------------------------------\n",
        "AFTER ANOTHER EPOCH\n",
        "-------------------------------------------------------------------------------\n",
        "Training status:\n",
        "\t epochs_done: 61\n",
        "\t iterations_done: 13969\n",
        "Log records from the iteration 13969:\n",
        "\t test_sequence_log_likelihood: 8.93709564209\n",
        "\t train_sequence_log_likelihood: 8.5522441864\n",
        "\t valid_sequence_log_likelihood: 8.90826225281\n",
        "\n",
        "\n"
       ]
      },
      {
       "output_type": "stream",
       "stream": "stdout",
       "text": [
        "-------------------------------------------------------------------------------\n",
        "AFTER ANOTHER EPOCH\n",
        "-------------------------------------------------------------------------------\n",
        "Training status:\n",
        "\t epochs_done: 62\n",
        "\t iterations_done: 14198\n",
        "Log records from the iteration 14198:\n",
        "\t test_sequence_log_likelihood: 8.9318780899\n",
        "\t train_sequence_log_likelihood: 8.54343605042\n",
        "\t valid_sequence_log_likelihood: 8.90187931061\n",
        "\n",
        "\n"
       ]
      },
      {
       "output_type": "stream",
       "stream": "stdout",
       "text": [
        "-------------------------------------------------------------------------------\n",
        "AFTER ANOTHER EPOCH\n",
        "-------------------------------------------------------------------------------\n",
        "Training status:\n",
        "\t epochs_done: 63\n",
        "\t iterations_done: 14427\n",
        "Log records from the iteration 14427:\n",
        "\t test_sequence_log_likelihood: 8.92688751221\n",
        "\t train_sequence_log_likelihood: 8.53485965729\n",
        "\t valid_sequence_log_likelihood: 8.89573955536\n",
        "\n",
        "\n"
       ]
      },
      {
       "output_type": "stream",
       "stream": "stdout",
       "text": [
        "-------------------------------------------------------------------------------\n",
        "AFTER ANOTHER EPOCH\n",
        "-------------------------------------------------------------------------------\n",
        "Training status:\n",
        "\t epochs_done: 64\n",
        "\t iterations_done: 14656\n",
        "Log records from the iteration 14656:\n",
        "\t test_sequence_log_likelihood: 8.92211055756\n",
        "\t train_sequence_log_likelihood: 8.526512146\n",
        "\t valid_sequence_log_likelihood: 8.88984012604\n",
        "\n",
        "\n"
       ]
      },
      {
       "output_type": "stream",
       "stream": "stdout",
       "text": [
        "-------------------------------------------------------------------------------\n",
        "AFTER ANOTHER EPOCH\n",
        "-------------------------------------------------------------------------------\n",
        "Training status:\n",
        "\t epochs_done: 65\n",
        "\t iterations_done: 14885\n",
        "Log records from the iteration 14885:\n",
        "\t test_sequence_log_likelihood: 8.91753959656\n",
        "\t train_sequence_log_likelihood: 8.5183763504\n",
        "\t valid_sequence_log_likelihood: 8.88416576385\n",
        "\n",
        "\n"
       ]
      },
      {
       "output_type": "stream",
       "stream": "stdout",
       "text": [
        "-------------------------------------------------------------------------------\n",
        "AFTER ANOTHER EPOCH\n",
        "-------------------------------------------------------------------------------\n",
        "Training status:\n",
        "\t epochs_done: 66\n",
        "\t iterations_done: 15114\n",
        "Log records from the iteration 15114:\n",
        "\t test_sequence_log_likelihood: 8.91316509247\n",
        "\t train_sequence_log_likelihood: 8.51045894623\n",
        "\t valid_sequence_log_likelihood: 8.87871265411\n",
        "\n",
        "\n"
       ]
      },
      {
       "output_type": "stream",
       "stream": "stdout",
       "text": [
        "-------------------------------------------------------------------------------\n",
        "AFTER ANOTHER EPOCH\n",
        "-------------------------------------------------------------------------------\n",
        "Training status:\n",
        "\t epochs_done: 67\n",
        "\t iterations_done: 15343\n",
        "Log records from the iteration 15343:\n",
        "\t test_sequence_log_likelihood: 8.90897464752\n",
        "\t train_sequence_log_likelihood: 8.50274181366\n",
        "\t valid_sequence_log_likelihood: 8.87347316742\n",
        "\n",
        "\n"
       ]
      },
      {
       "output_type": "stream",
       "stream": "stdout",
       "text": [
        "-------------------------------------------------------------------------------\n",
        "AFTER ANOTHER EPOCH\n",
        "-------------------------------------------------------------------------------\n",
        "Training status:\n",
        "\t epochs_done: 68\n",
        "\t iterations_done: 15572\n",
        "Log records from the iteration 15572:\n",
        "\t test_sequence_log_likelihood: 8.904961586\n",
        "\t train_sequence_log_likelihood: 8.4952287674\n",
        "\t valid_sequence_log_likelihood: 8.8684387207\n",
        "\n",
        "\n"
       ]
      },
      {
       "output_type": "stream",
       "stream": "stdout",
       "text": [
        "-------------------------------------------------------------------------------\n",
        "AFTER ANOTHER EPOCH\n",
        "-------------------------------------------------------------------------------\n",
        "Training status:\n",
        "\t epochs_done: 69\n",
        "\t iterations_done: 15801\n",
        "Log records from the iteration 15801:\n",
        "\t test_sequence_log_likelihood: 8.90111351013\n",
        "\t train_sequence_log_likelihood: 8.48790073395\n",
        "\t valid_sequence_log_likelihood: 8.86360168457\n",
        "\n",
        "\n"
       ]
      },
      {
       "output_type": "stream",
       "stream": "stdout",
       "text": [
        "-------------------------------------------------------------------------------\n",
        "AFTER ANOTHER EPOCH\n",
        "-------------------------------------------------------------------------------\n",
        "Training status:\n",
        "\t epochs_done: 70\n",
        "\t iterations_done: 16030\n",
        "Log records from the iteration 16030:\n",
        "\t test_sequence_log_likelihood: 8.89742565155\n",
        "\t train_sequence_log_likelihood: 8.48076534271\n",
        "\t valid_sequence_log_likelihood: 8.85895252228\n",
        "\n",
        "\n"
       ]
      },
      {
       "output_type": "stream",
       "stream": "stdout",
       "text": [
        "-------------------------------------------------------------------------------\n",
        "AFTER ANOTHER EPOCH\n",
        "-------------------------------------------------------------------------------\n",
        "Training status:\n",
        "\t epochs_done: 71\n",
        "\t iterations_done: 16259\n",
        "Log records from the iteration 16259:\n",
        "\t test_sequence_log_likelihood: 8.89388656616\n",
        "\t train_sequence_log_likelihood: 8.47380161285\n",
        "\t valid_sequence_log_likelihood: 8.85448932648\n",
        "\n",
        "\n"
       ]
      },
      {
       "output_type": "stream",
       "stream": "stdout",
       "text": [
        "-------------------------------------------------------------------------------\n",
        "AFTER ANOTHER EPOCH\n",
        "-------------------------------------------------------------------------------\n",
        "Training status:\n",
        "\t epochs_done: 72\n",
        "\t iterations_done: 16488\n",
        "Log records from the iteration 16488:\n",
        "\t test_sequence_log_likelihood: 8.8904914856\n",
        "\t train_sequence_log_likelihood: 8.46702384949\n",
        "\t valid_sequence_log_likelihood: 8.85020160675\n",
        "\n",
        "\n"
       ]
      },
      {
       "output_type": "stream",
       "stream": "stdout",
       "text": [
        "-------------------------------------------------------------------------------\n",
        "AFTER ANOTHER EPOCH\n",
        "-------------------------------------------------------------------------------\n",
        "Training status:\n",
        "\t epochs_done: 73\n",
        "\t iterations_done: 16717\n",
        "Log records from the iteration 16717:\n",
        "\t test_sequence_log_likelihood: 8.88723087311\n",
        "\t train_sequence_log_likelihood: 8.4604101181\n",
        "\t valid_sequence_log_likelihood: 8.84608459473\n",
        "\n",
        "\n"
       ]
      },
      {
       "output_type": "stream",
       "stream": "stdout",
       "text": [
        "-------------------------------------------------------------------------------\n",
        "AFTER ANOTHER EPOCH\n",
        "-------------------------------------------------------------------------------\n",
        "Training status:\n",
        "\t epochs_done: 74\n",
        "\t iterations_done: 16946\n",
        "Log records from the iteration 16946:\n",
        "\t test_sequence_log_likelihood: 8.88409805298\n",
        "\t train_sequence_log_likelihood: 8.45395565033\n",
        "\t valid_sequence_log_likelihood: 8.84212970734\n",
        "\n",
        "\n"
       ]
      },
      {
       "output_type": "stream",
       "stream": "stdout",
       "text": [
        "-------------------------------------------------------------------------------\n",
        "AFTER ANOTHER EPOCH\n",
        "-------------------------------------------------------------------------------\n",
        "Training status:\n",
        "\t epochs_done: 75\n",
        "\t iterations_done: 17175\n",
        "Log records from the iteration 17175:\n",
        "\t test_sequence_log_likelihood: 8.88108730316\n",
        "\t train_sequence_log_likelihood: 8.44766044617\n",
        "\t valid_sequence_log_likelihood: 8.83833026886\n",
        "\n",
        "\n"
       ]
      },
      {
       "output_type": "stream",
       "stream": "stdout",
       "text": [
        "-------------------------------------------------------------------------------\n",
        "AFTER ANOTHER EPOCH\n",
        "-------------------------------------------------------------------------------\n",
        "Training status:\n",
        "\t epochs_done: 76\n",
        "\t iterations_done: 17404\n",
        "Log records from the iteration 17404:\n",
        "\t test_sequence_log_likelihood: 8.87818527222\n",
        "\t train_sequence_log_likelihood: 8.44151878357\n",
        "\t valid_sequence_log_likelihood: 8.83468532562\n",
        "\n",
        "\n"
       ]
      },
      {
       "output_type": "stream",
       "stream": "stdout",
       "text": [
        "-------------------------------------------------------------------------------\n",
        "AFTER ANOTHER EPOCH\n",
        "-------------------------------------------------------------------------------\n",
        "Training status:\n",
        "\t epochs_done: 77\n",
        "\t iterations_done: 17633\n",
        "Log records from the iteration 17633:\n",
        "\t test_sequence_log_likelihood: 8.87539958954\n",
        "\t train_sequence_log_likelihood: 8.43552684784\n",
        "\t valid_sequence_log_likelihood: 8.83117866516\n",
        "\n",
        "\n"
       ]
      },
      {
       "output_type": "stream",
       "stream": "stdout",
       "text": [
        "-------------------------------------------------------------------------------\n",
        "AFTER ANOTHER EPOCH\n",
        "-------------------------------------------------------------------------------\n",
        "Training status:\n",
        "\t epochs_done: 78\n",
        "\t iterations_done: 17862\n",
        "Log records from the iteration 17862:\n",
        "\t test_sequence_log_likelihood: 8.87271595001\n",
        "\t train_sequence_log_likelihood: 8.42967319489\n",
        "\t valid_sequence_log_likelihood: 8.8278169632\n",
        "\n",
        "\n"
       ]
      },
      {
       "output_type": "stream",
       "stream": "stdout",
       "text": [
        "-------------------------------------------------------------------------------\n",
        "AFTER ANOTHER EPOCH\n",
        "-------------------------------------------------------------------------------\n",
        "Training status:\n",
        "\t epochs_done: 79\n",
        "\t iterations_done: 18091\n",
        "Log records from the iteration 18091:\n",
        "\t test_sequence_log_likelihood: 8.87013339996\n",
        "\t train_sequence_log_likelihood: 8.4239616394\n",
        "\t valid_sequence_log_likelihood: 8.82459068298\n",
        "\n",
        "\n"
       ]
      },
      {
       "output_type": "stream",
       "stream": "stdout",
       "text": [
        "-------------------------------------------------------------------------------\n",
        "AFTER ANOTHER EPOCH\n",
        "-------------------------------------------------------------------------------\n",
        "Training status:\n",
        "\t epochs_done: 80\n",
        "\t iterations_done: 18320\n",
        "Log records from the iteration 18320:\n",
        "\t test_sequence_log_likelihood: 8.86764240265\n",
        "\t train_sequence_log_likelihood: 8.41838359833\n",
        "\t valid_sequence_log_likelihood: 8.82149219513\n",
        "\n",
        "\n"
       ]
      },
      {
       "output_type": "stream",
       "stream": "stdout",
       "text": [
        "-------------------------------------------------------------------------------\n",
        "AFTER ANOTHER EPOCH\n",
        "-------------------------------------------------------------------------------\n",
        "Training status:\n",
        "\t epochs_done: 81\n",
        "\t iterations_done: 18549\n",
        "Log records from the iteration 18549:\n",
        "\t test_sequence_log_likelihood: 8.86524486542\n",
        "\t train_sequence_log_likelihood: 8.41294288635\n",
        "\t valid_sequence_log_likelihood: 8.81851959229\n",
        "\n",
        "\n"
       ]
      },
      {
       "output_type": "stream",
       "stream": "stdout",
       "text": [
        "-------------------------------------------------------------------------------\n",
        "AFTER ANOTHER EPOCH\n",
        "-------------------------------------------------------------------------------\n",
        "Training status:\n",
        "\t epochs_done: 82\n",
        "\t iterations_done: 18778\n",
        "Log records from the iteration 18778:\n",
        "\t test_sequence_log_likelihood: 8.8629322052\n",
        "\t train_sequence_log_likelihood: 8.40762233734\n",
        "\t valid_sequence_log_likelihood: 8.81566524506\n",
        "\n",
        "\n"
       ]
      },
      {
       "output_type": "stream",
       "stream": "stdout",
       "text": [
        "-------------------------------------------------------------------------------\n",
        "AFTER ANOTHER EPOCH\n",
        "-------------------------------------------------------------------------------\n",
        "Training status:\n",
        "\t epochs_done: 83\n",
        "\t iterations_done: 19007\n",
        "Log records from the iteration 19007:\n",
        "\t test_sequence_log_likelihood: 8.86070346832\n",
        "\t train_sequence_log_likelihood: 8.4024181366\n",
        "\t valid_sequence_log_likelihood: 8.81292724609\n",
        "\n",
        "\n"
       ]
      },
      {
       "output_type": "stream",
       "stream": "stdout",
       "text": [
        "-------------------------------------------------------------------------------\n",
        "AFTER ANOTHER EPOCH\n",
        "-------------------------------------------------------------------------------\n",
        "Training status:\n",
        "\t epochs_done: 84\n",
        "\t iterations_done: 19236\n",
        "Log records from the iteration 19236:\n",
        "\t test_sequence_log_likelihood: 8.85855102539\n",
        "\t train_sequence_log_likelihood: 8.39733886719\n",
        "\t valid_sequence_log_likelihood: 8.81029987335\n",
        "\n",
        "\n"
       ]
      },
      {
       "output_type": "stream",
       "stream": "stdout",
       "text": [
        "-------------------------------------------------------------------------------\n",
        "AFTER ANOTHER EPOCH\n",
        "-------------------------------------------------------------------------------\n",
        "Training status:\n",
        "\t epochs_done: 85\n",
        "\t iterations_done: 19465\n",
        "Log records from the iteration 19465:\n",
        "\t test_sequence_log_likelihood: 8.85647583008\n",
        "\t train_sequence_log_likelihood: 8.392370224\n",
        "\t valid_sequence_log_likelihood: 8.80777549744\n",
        "\n",
        "\n"
       ]
      },
      {
       "output_type": "stream",
       "stream": "stdout",
       "text": [
        "-------------------------------------------------------------------------------\n",
        "AFTER ANOTHER EPOCH\n",
        "-------------------------------------------------------------------------------\n",
        "Training status:\n",
        "\t epochs_done: 86\n",
        "\t iterations_done: 19694\n",
        "Log records from the iteration 19694:\n",
        "\t test_sequence_log_likelihood: 8.85447120667\n",
        "\t train_sequence_log_likelihood: 8.38751316071\n",
        "\t valid_sequence_log_likelihood: 8.80535697937\n",
        "\n",
        "\n"
       ]
      },
      {
       "output_type": "stream",
       "stream": "stdout",
       "text": [
        "-------------------------------------------------------------------------------\n",
        "AFTER ANOTHER EPOCH\n",
        "-------------------------------------------------------------------------------\n",
        "Training status:\n",
        "\t epochs_done: 87\n",
        "\t iterations_done: 19923\n",
        "Log records from the iteration 19923:\n",
        "\t test_sequence_log_likelihood: 8.85254096985\n",
        "\t train_sequence_log_likelihood: 8.38276386261\n",
        "\t valid_sequence_log_likelihood: 8.80303573608\n",
        "\n",
        "\n"
       ]
      },
      {
       "output_type": "stream",
       "stream": "stdout",
       "text": [
        "-------------------------------------------------------------------------------\n",
        "AFTER ANOTHER EPOCH\n",
        "-------------------------------------------------------------------------------\n",
        "Training status:\n",
        "\t epochs_done: 88\n",
        "\t iterations_done: 20152\n",
        "Log records from the iteration 20152:\n",
        "\t test_sequence_log_likelihood: 8.85067176819\n",
        "\t train_sequence_log_likelihood: 8.37811851501\n",
        "\t valid_sequence_log_likelihood: 8.80080699921\n",
        "\n",
        "\n"
       ]
      },
      {
       "output_type": "stream",
       "stream": "stdout",
       "text": [
        "-------------------------------------------------------------------------------\n",
        "AFTER ANOTHER EPOCH\n",
        "-------------------------------------------------------------------------------\n",
        "Training status:\n",
        "\t epochs_done: 89\n",
        "\t iterations_done: 20381\n",
        "Log records from the iteration 20381:\n",
        "\t test_sequence_log_likelihood: 8.84886837006\n",
        "\t train_sequence_log_likelihood: 8.37357902527\n",
        "\t valid_sequence_log_likelihood: 8.79866981506\n",
        "\n",
        "\n"
       ]
      },
      {
       "output_type": "stream",
       "stream": "stdout",
       "text": [
        "-------------------------------------------------------------------------------\n",
        "AFTER ANOTHER EPOCH\n",
        "-------------------------------------------------------------------------------\n",
        "Training status:\n",
        "\t epochs_done: 90\n",
        "\t iterations_done: 20610\n",
        "Log records from the iteration 20610:\n",
        "\t test_sequence_log_likelihood: 8.84712409973\n",
        "\t train_sequence_log_likelihood: 8.36913013458\n",
        "\t valid_sequence_log_likelihood: 8.79661655426\n",
        "\n",
        "\n"
       ]
      },
      {
       "output_type": "stream",
       "stream": "stdout",
       "text": [
        "-------------------------------------------------------------------------------\n",
        "AFTER ANOTHER EPOCH\n",
        "-------------------------------------------------------------------------------\n",
        "Training status:\n",
        "\t epochs_done: 91\n",
        "\t iterations_done: 20839\n",
        "Log records from the iteration 20839:\n",
        "\t test_sequence_log_likelihood: 8.84543895721\n",
        "\t train_sequence_log_likelihood: 8.36478042603\n",
        "\t valid_sequence_log_likelihood: 8.79464817047\n",
        "\n",
        "\n"
       ]
      },
      {
       "output_type": "stream",
       "stream": "stdout",
       "text": [
        "-------------------------------------------------------------------------------\n",
        "AFTER ANOTHER EPOCH\n",
        "-------------------------------------------------------------------------------\n",
        "Training status:\n",
        "\t epochs_done: 92\n",
        "\t iterations_done: 21068\n",
        "Log records from the iteration 21068:\n",
        "\t test_sequence_log_likelihood: 8.84381103516\n",
        "\t train_sequence_log_likelihood: 8.36051654816\n",
        "\t valid_sequence_log_likelihood: 8.792760849\n",
        "\n",
        "\n"
       ]
      },
      {
       "output_type": "stream",
       "stream": "stdout",
       "text": [
        "-------------------------------------------------------------------------------\n",
        "AFTER ANOTHER EPOCH\n",
        "-------------------------------------------------------------------------------\n",
        "Training status:\n",
        "\t epochs_done: 93\n",
        "\t iterations_done: 21297\n",
        "Log records from the iteration 21297:\n",
        "\t test_sequence_log_likelihood: 8.84223461151\n",
        "\t train_sequence_log_likelihood: 8.35634040833\n",
        "\t valid_sequence_log_likelihood: 8.79094791412\n",
        "\n",
        "\n"
       ]
      },
      {
       "output_type": "stream",
       "stream": "stdout",
       "text": [
        "-------------------------------------------------------------------------------\n",
        "AFTER ANOTHER EPOCH\n",
        "-------------------------------------------------------------------------------\n",
        "Training status:\n",
        "\t epochs_done: 94\n",
        "\t iterations_done: 21526\n",
        "Log records from the iteration 21526:\n",
        "\t test_sequence_log_likelihood: 8.84070968628\n",
        "\t train_sequence_log_likelihood: 8.35225772858\n",
        "\t valid_sequence_log_likelihood: 8.78921222687\n",
        "\n",
        "\n"
       ]
      },
      {
       "output_type": "stream",
       "stream": "stdout",
       "text": [
        "-------------------------------------------------------------------------------\n",
        "AFTER ANOTHER EPOCH\n",
        "-------------------------------------------------------------------------------\n",
        "Training status:\n",
        "\t epochs_done: 95\n",
        "\t iterations_done: 21755\n",
        "Log records from the iteration 21755:\n",
        "\t test_sequence_log_likelihood: 8.83923339844\n",
        "\t train_sequence_log_likelihood: 8.34825325012\n",
        "\t valid_sequence_log_likelihood: 8.78753948212\n",
        "\n",
        "\n"
       ]
      },
      {
       "output_type": "stream",
       "stream": "stdout",
       "text": [
        "-------------------------------------------------------------------------------\n",
        "AFTER ANOTHER EPOCH\n",
        "-------------------------------------------------------------------------------\n",
        "Training status:\n",
        "\t epochs_done: 96\n",
        "\t iterations_done: 21984\n",
        "Log records from the iteration 21984:\n",
        "\t test_sequence_log_likelihood: 8.83780384064\n",
        "\t train_sequence_log_likelihood: 8.34433555603\n",
        "\t valid_sequence_log_likelihood: 8.78593921661\n",
        "\n",
        "\n"
       ]
      },
      {
       "output_type": "stream",
       "stream": "stdout",
       "text": [
        "-------------------------------------------------------------------------------\n",
        "AFTER ANOTHER EPOCH\n",
        "-------------------------------------------------------------------------------\n",
        "Training status:\n",
        "\t epochs_done: 97\n",
        "\t iterations_done: 22213\n",
        "Log records from the iteration 22213:\n",
        "\t test_sequence_log_likelihood: 8.8364238739\n",
        "\t train_sequence_log_likelihood: 8.34049034119\n",
        "\t valid_sequence_log_likelihood: 8.78440093994\n",
        "\n",
        "\n"
       ]
      },
      {
       "output_type": "stream",
       "stream": "stdout",
       "text": [
        "-------------------------------------------------------------------------------\n",
        "AFTER ANOTHER EPOCH\n",
        "-------------------------------------------------------------------------------\n",
        "Training status:\n",
        "\t epochs_done: 98\n",
        "\t iterations_done: 22442\n",
        "Log records from the iteration 22442:\n",
        "\t test_sequence_log_likelihood: 8.83508300781\n",
        "\t train_sequence_log_likelihood: 8.33672046661\n",
        "\t valid_sequence_log_likelihood: 8.7829246521\n",
        "\n",
        "\n"
       ]
      },
      {
       "output_type": "stream",
       "stream": "stdout",
       "text": [
        "-------------------------------------------------------------------------------\n",
        "AFTER ANOTHER EPOCH\n",
        "-------------------------------------------------------------------------------\n",
        "Training status:\n",
        "\t epochs_done: 99\n",
        "\t iterations_done: 22671\n",
        "Log records from the iteration 22671:\n",
        "\t test_sequence_log_likelihood: 8.83378887177\n",
        "\t train_sequence_log_likelihood: 8.33302688599\n",
        "\t valid_sequence_log_likelihood: 8.78151035309\n",
        "\n",
        "\n"
       ]
      },
      {
       "output_type": "stream",
       "stream": "stdout",
       "text": [
        "-------------------------------------------------------------------------------\n",
        "AFTER ANOTHER EPOCH\n",
        "-------------------------------------------------------------------------------\n",
        "Training status:\n",
        "\t epochs_done: 100\n",
        "\t iterations_done: 22900\n",
        "Log records from the iteration 22900:\n",
        "\t test_sequence_log_likelihood: 8.83253288269\n",
        "\t train_sequence_log_likelihood: 8.32940196991\n",
        "\t training_finish_requested: True\n",
        "\t valid_sequence_log_likelihood: 8.78014850616\n",
        "\n",
        "\n",
        "-------------------------------------------------------------------------------\n",
        "TRAINING HAS BEEN FINISHED:\n",
        "-------------------------------------------------------------------------------\n",
        "Training status:\n",
        "\t epochs_done: 100\n",
        "\t iterations_done: 22900\n",
        "Log records from the iteration 22900:\n",
        "\t test_sequence_log_likelihood: 8.83253288269\n",
        "\t train_sequence_log_likelihood: 8.32940196991\n",
        "\t training_finish_requested: True\n",
        "\t training_finished: True\n",
        "\t valid_sequence_log_likelihood: 8.78014850616\n",
        "\n"
       ]
      },
      {
       "output_type": "stream",
       "stream": "stderr",
       "text": [
        "/Users/eder/python/blocks/blocks/log.py:147: FutureWarning: comparison to `None` will result in an elementwise object comparison in the future.\n",
        "  if value != default_value:\n"
       ]
      }
     ],
     "prompt_number": 7
    },
    {
     "cell_type": "code",
     "collapsed": false,
     "input": [
      "RNN.W.get_value()"
     ],
     "language": "python",
     "metadata": {},
     "outputs": []
    },
    {
     "cell_type": "code",
     "collapsed": false,
     "input": [],
     "language": "python",
     "metadata": {},
     "outputs": []
    }
   ],
   "metadata": {}
  }
 ]
}