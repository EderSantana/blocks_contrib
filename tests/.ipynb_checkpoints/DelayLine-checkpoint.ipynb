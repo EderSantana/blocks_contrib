{
 "metadata": {
  "name": "",
  "signature": "sha256:d6522e6a863964195aab9714af4924e28ac96d6c29a7afbe537e94581ea0ea02"
 },
 "nbformat": 3,
 "nbformat_minor": 0,
 "worksheets": []
}